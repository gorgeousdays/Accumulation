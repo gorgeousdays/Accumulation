{
 "cells": [
  {
   "cell_type": "markdown",
   "metadata": {},
   "source": [
    "<center><div><img src = \"http://china-bigdatauniversity.oss-cn-qingdao.aliyuncs.com/dolphin-labs/notebook-header-logo.png\", width = 230/></div></center>"
   ]
  },
  {
   "cell_type": "markdown",
   "metadata": {},
   "source": [
    "<center><h1 align=center><font size = 5>线性模型(Linear Model)</font></h1> \n",
    "\n",
    "<h2 align=center><font size = 2>【课程性质：机器学习算法-基础】</font></h2></center>"
   ]
  },
  {
   "cell_type": "markdown",
   "metadata": {},
   "source": [
    "## 1. 实验目标\n",
    "\n",
    "使用Sklearn库操作机器学习\n",
    "\n",
    "## 2. 实验主要使用的 $Python$ 库\n",
    "\n",
    "|名称|版本|简介|\n",
    "|----|----|----|\n",
    "|$Numpy$|$1.16.0$|线性代数|\n",
    "|$Pandas$|$0.25.0$|数据分析|\n",
    "|$Matplotlib$|$3.0.1$|数据可视化|\n",
    "|$SKlearn$|$0.22.1$|机器学习|\n",
    "\n",
    "## 3. 实验适用的对象\n",
    "\n",
    "- 本课程假设您已经学习了 $Python$ 基础，具备可视化基础\n",
    "- 学习对象：本科学生、研究生、人工智能、算法相关研究者、开发者\n",
    "- 大数据分析与人工智能"
   ]
  },
  {
   "cell_type": "markdown",
   "metadata": {},
   "source": [
    "<div class=\"alert alert-success alertsuccess\" style=\"margin-top: 10px\">\n",
    "<center>理论学习部分</center>\n",
    "</div>"
   ]
  },
  {
   "cell_type": "markdown",
   "metadata": {},
   "source": [
    "<p><b>机器学习(Machine Learning, ML)是人工智能(AI)的一个子集，是使计算机具有智能的根本途径。</b></p>\n",
    "在本实验中，您将学习线性模型的基本思想和算法以及如何用Python实现。 "
   ]
  },
  {
   "cell_type": "markdown",
   "metadata": {},
   "source": [
    "---"
   ]
  },
  {
   "cell_type": "markdown",
   "metadata": {},
   "source": [
    "<font size=5>**概述**</font>\n",
    "<br><br>\n",
    "给定样本$\\vec{x}$,我们用列向量表示该样本$\\vec{x}=(x^{(1)},x^{(2)},\\cdots,x^{(n)})^T$。样本有n种特征，我们用$x^{(i)}$表示样本$\\vec{x}$的第i个特征。线性模型(linear model)的形式为：\n",
    "$$f(\\vec{x})=\\vec{\\omega}·\\vec{x}+b$$\n",
    "其中$\\vec{\\omega}=(\\omega^{(1)},\\omega^{(2)},\\cdots,\\omega^{(n)})^T$为每个特征对应的权重生成的权重向量，权重向量直观地表达了各个特征在预测中的重要性。"
   ]
  },
  {
   "cell_type": "markdown",
   "metadata": {},
   "source": [
    "<font size=5>**理论推导**</font>\n",
    "<br><br>\n",
    "给定数据集$T=\\left\\{(\\vec{x}_1,y_1),(\\vec{x}_2,y_2),\\cdots(\\vec{x}_N,y_N)\\right\\},\\vec{x}_i\\in\\mathcal{X}\\in\\mathbb{R}^n,y_i\\in\\mathcal{Y}\\in\\mathbb{R},i=1,2,\\cdots,N$，其中$\\vec{x}=(x^{(1)},x^{(2)},\\cdots,x^{(n)})^T$。我们需要学习的模型为：\n",
    "$$f(\\vec{x})=\\vec{\\omega}·\\vec{x}+b$$\n",
    "也即：根据已知的数据集$T$来计算参数$\\omega$和$b$\n",
    "对于给定的样本$\\vec{x_i}$,其预测值为$\\hat{y_i}=f(\\vec{x_i})+b$。我们采用平方损失函数，则在训练集上$T$上，模型的损失函数为\n",
    "$$L(f)=\\sum_{i=1}^N(\\hat{y_i}-y_i)^2=\\sum_{i=1}^N(\\vec{\\omega}·\\vec{x_i}+b-y_i)^2$$\n",
    "我们的目标是损失函数最小化，即：\n",
    "$$(\\vec{\\omega}^*,b^*)=\\mathop{\\arg\\min}_{\\vec{\\tilde{\\omega}}}\\sum_{i=1}^N(\\vec{\\omega}·\\vec{x_i}+b-y_i)^2$$\n",
    "令： \n",
    "$$\\vec{\\tilde{\\omega}}=(\\omega^{(1)},\\omega^{(2)},\\cdots,\\omega^{(n)},b)^T=(\\vec{\\omega}^T,b)^T$$\n",
    "$$\\vec{\\tilde{x_i}}=(x^{(1)}_i,x^{(2)}_i,\\cdots,x^{(n)}_i,1)^T=(\\vec{x}^T,1)^T$$\n",
    "$$\\vec{x}=(\\vec{\\tilde{x_1}},\\vec{\\tilde{x_2}},\\cdots,\\vec{\\tilde{x_N}})^T=\\begin{bmatrix} \\vec{\\tilde{x_1}}^T \\\\ \\vec{\\tilde{x_2}}^T \\\\ \\vdots\\\\ \\vec{\\tilde{x_N}}^T\\end{bmatrix}=\\begin{bmatrix} x_1^{(1)} & x_1^{(2)} & \\cdots & x_1^{(n)} & 1 \\\\ x_2^{(1)} & x_2^{(2)} & \\cdots & x_2^{(n)} & 1 \\\\ \\vdots & \\vdots & \\vdots & \\vdots & 1 \\\\ x_N^{(1)} & x_N^{(2)} & \\cdots & x_N^{(n)} & 1 \\\\ \\end{bmatrix}$$\n",
    "$$\\vec{y}=(y_1,y_2,\\cdots,y_N)^T$$\n",
    "则有：\n",
    "$$\\sum_{i=1}^N(\\vec{\\omega}·\\vec{x_i}+b-y_i)^2==(\\vec{y}-\\vec{x}\\vec{\\omega})^T(\\vec{y}-\\vec{x}\\vec{\\omega})$$\n",
    "$$\\vec{\\tilde{\\omega}}^*=\\mathop{\\arg\\min}_{\\vec{\\tilde{\\omega}}}[(\\vec{y}-\\vec{x}\\vec{\\omega})^T(\\vec{y}-\\vec{x}\\vec{\\omega})]$$\n",
    "令：$$E(\\vec{\\tilde{\\omega}})=(\\vec{y}-\\vec{x}\\vec{\\omega})^T(\\vec{y}-\\vec{x}\\vec{\\omega})$$\n",
    "求$E(\\vec{\\tilde{\\omega}})$的极小值即对$\\vec{\\tilde{\\omega}}$求导令导数为零，得到解析解：\n",
    "$$\\frac{\\partial E(\\vec{\\tilde{\\omega}})}{\\partial \\vec{\\tilde{\\omega}}}=2\\vec{x}^T(\\vec{x}\\vec{\\tilde{\\omega}}-\\vec{y})=\\vec{0}\\Rightarrow\\vec{x}^T\\vec{x}\\vec{\\tilde{\\omega}}=\\vec{x}^T\\vec{y}$$\n",
    "- 当$\\vec{x}^T\\vec{x}$为满秩矩阵或者正定矩阵时，可得：\n",
    "$$\\vec{\\tilde{\\omega}}^*=(\\vec{x}^T\\vec{x})^{-1}\\vec{x}^T\\vec{y}$$\n",
    "于是学得的多元线性回归模型为：$$f(\\vec{\\tilde{x_i}})=\\vec{\\tilde{x_i}}^T\\vec{\\tilde{\\omega}}^*$$\n",
    "- 当$\\vec{x}^T\\vec{x}$不是满秩矩阵时，此时存在多个解析解，常见的做法是引入正则化项。所谓正则化，就是对模型的参数添加一些先验假设，控制模型空间，以达到使得模型复杂度较小的目的。根据不同的正则化方式，用不同的方法：\n",
    "    - Ridge Regression:正则化项为$\\alpha\\parallel\\vec{\\omega}\\parallel_2^2,\\alpha\\geqslant0$ \n",
    "    - Lasso Regression:正则化项为$\\alpha\\parallel\\vec{\\omega}\\parallel_1,\\alpha\\geqslant0$\n",
    "    - Elastic Net:正则化项为$\\alpha\\rho\\parallel\\vec{\\omega}\\parallel_1+\\frac{\\alpha+\\rho}{2}\\parallel\\vec{\\omega}\\parallel_2^2,\\alpha\\geqslant0,1\\geqslant\\rho\\geqslant0$\n"
   ]
  },
  {
   "cell_type": "markdown",
   "metadata": {},
   "source": [
    "<font size=5>**线性回归算法**</font>\n",
    "- 输入：数据集$T=\\left\\{(\\vec{x}_1,y_1),(\\vec{x}_2,y_2),\\cdots(\\vec{x}_N,y_N)\\right\\},\\vec{x}_i\\in\\mathcal{X}\\in\\mathbb{R}^n,y_i\\in\\mathcal{Y}\\in\\mathbb{R},i=1,2,\\cdots,N$，正则化系数$\\lambda>0$\n",
    "- 输出：$f(\\vec{x})=\\vec{\\omega}·\\vec{x}+b$\n",
    "- 算法步骤：\n",
    "    - 令： \n",
    "    $$\\vec{\\tilde{\\omega}}=(\\omega^{(1)},\\omega^{(2)},\\cdots,\\omega^{(n)},b)^T$$\n",
    "    $$\\vec{\\tilde{x}}=(x^{(1)},x^{(2)},\\cdots,x^{(n)},1)^T$$\n",
    "    $$\\vec{y}=(y_1,y_2,\\cdots,y_N)^T$$\n",
    "    - 计算： \n",
    "    $$\\vec{x}=(\\vec{\\tilde{x_1}},\\vec{\\tilde{x_2}},\\cdots,\\vec{\\tilde{x_N}})^T=\\begin{bmatrix} \\vec{\\tilde{x_1}}^T \\\\ \\vec{\\tilde{x_2}}^T \\\\ \\vdots\\\\ \\vec{\\tilde{x_N}}^T\\end{bmatrix}=\\begin{bmatrix} x_1^{(1)} & x_1^{(2)} & \\cdots & x_1^{(n)} & 1 \\\\ x_2^{(1)} & x_2^{(2)} & \\cdots & x_2^{(n)} & 1 \\\\ \\vdots & \\vdots & \\vdots & \\vdots & 1 \\\\ x_N^{(1)} & x_N^{(2)} & \\cdots & x_N^{(n)} & 1 \\\\ \\end{bmatrix}$$\n",
    "    - 求解:\n",
    "    $$\\vec{\\tilde{\\omega}}^*=\\mathop{\\arg\\min}_{\\vec{\\tilde{\\omega}}}[(\\vec{y}-\\vec{x}\\vec{\\omega})^T(\\vec{y}-\\vec{x}\\vec{\\omega})+\\lambda{L}]$$其中$L$为正则项,$\\lambda$为正则化项系数\n",
    "    - 最终学得模型：\n",
    "    $$f(\\vec{\\tilde{x_i}})=\\vec{\\tilde{x_i}}^T\\vec{\\tilde{\\omega}}^*$$"
   ]
  },
  {
   "cell_type": "markdown",
   "metadata": {},
   "source": [
    "<div class=\"alert alert-success alertsuccess\" style=\"margin-top: 10px\">\n",
    "<center>实践学习部分</center>\n",
    "</div>"
   ]
  },
  {
   "cell_type": "markdown",
   "metadata": {},
   "source": [
    "## 4. 实验步骤"
   ]
  },
  {
   "cell_type": "markdown",
   "metadata": {},
   "source": [
    "### 步骤1 安装并引入必要的库"
   ]
  },
  {
   "cell_type": "markdown",
   "metadata": {},
   "source": [
    "<div class=\"alert alert-success alertsuccess\" style=\"margin-top: 5px\">\n",
    "代码示例：\n",
    "</div>"
   ]
  },
  {
   "cell_type": "markdown",
   "metadata": {},
   "source": [
    "```python\n",
    "!pip install numpy==1.16.0\n",
    "!pip install scikit-learn==0.22.1\n",
    "```"
   ]
  },
  {
   "cell_type": "markdown",
   "metadata": {},
   "source": [
    "<div class=\"alert alert-success alertsuccess\" style=\"margin-top: 10px\">\n",
    "☞ 轮到你了：\n",
    "</div>"
   ]
  },
  {
   "cell_type": "code",
   "execution_count": 1,
   "metadata": {
    "ExecuteTime": {
     "end_time": "2021-04-24T04:55:00.093270Z",
     "start_time": "2021-04-24T04:54:38.715533Z"
    }
   },
   "outputs": [
    {
     "name": "stdout",
     "output_type": "stream",
     "text": [
      "^C\n",
      "^C\n"
     ]
    }
   ],
   "source": [
    "# 请输入代码：\n",
    "!pip install numpy==1.16.0\n",
    "!pip install scikit-learn==0.22.1\n"
   ]
  },
  {
   "cell_type": "markdown",
   "metadata": {},
   "source": [
    "<div class=\"alert alert-success alertsuccess\" style=\"margin-top: 5px\">\n",
    "代码示例：\n",
    "</div>"
   ]
  },
  {
   "cell_type": "markdown",
   "metadata": {},
   "source": [
    "```python\n",
    "import numpy as np\n",
    "from sklearn import datasets, linear_model, model_selection\n",
    "```"
   ]
  },
  {
   "cell_type": "markdown",
   "metadata": {},
   "source": [
    "<div class=\"alert alert-success alertsuccess\" style=\"margin-top: 10px\">\n",
    "☞ 轮到你了：\n",
    "</div>"
   ]
  },
  {
   "cell_type": "code",
   "execution_count": 2,
   "metadata": {
    "ExecuteTime": {
     "end_time": "2021-04-24T04:55:06.466643Z",
     "start_time": "2021-04-24T04:55:04.205279Z"
    }
   },
   "outputs": [],
   "source": [
    "# 请输入代码：\n",
    "import numpy as np\n",
    "from sklearn import datasets, linear_model, model_selection\n"
   ]
  },
  {
   "cell_type": "markdown",
   "metadata": {},
   "source": [
    "### 步骤2 数据分析处理"
   ]
  },
  {
   "cell_type": "markdown",
   "metadata": {},
   "source": [
    "在线性回归问题中，我们使用diabetes数据集,它是scikit-learn自带的一个糖尿病病人采样并整理后，特点如下：\n",
    "   - 数据集有442个样本\n",
    "   - 每个样本都有10个特征\n",
    "   - 每个特征都是浮点数，数据都在$-0.2\\sim0.2$之间\n",
    "   - 样本的目标在整数$25\\sim346$之间"
   ]
  },
  {
   "cell_type": "markdown",
   "metadata": {},
   "source": [
    "#### 2.1 加载数据\n",
    "\n",
    "我们需要从sklearn的datasets导入数据集并对数据集命名。"
   ]
  },
  {
   "cell_type": "markdown",
   "metadata": {},
   "source": [
    "<div class=\"alert alert-success alertsuccess\" style=\"margin-top: 5px\">\n",
    "代码示例：\n",
    "</div>"
   ]
  },
  {
   "cell_type": "markdown",
   "metadata": {},
   "source": [
    "```python\n",
    "diabetes = datasets.load_diabetes()\n",
    "```"
   ]
  },
  {
   "cell_type": "markdown",
   "metadata": {},
   "source": [
    "<div class=\"alert alert-success alertsuccess\" style=\"margin-top: 10px\">\n",
    "☞ 轮到你了：\n",
    "</div>"
   ]
  },
  {
   "cell_type": "code",
   "execution_count": 3,
   "metadata": {
    "ExecuteTime": {
     "end_time": "2021-04-24T04:55:20.924279Z",
     "start_time": "2021-04-24T04:55:20.900280Z"
    }
   },
   "outputs": [],
   "source": [
    "# 请输入代码：\n",
    "diabetes = datasets.load_diabetes()\n"
   ]
  },
  {
   "cell_type": "markdown",
   "metadata": {},
   "source": [
    "现在我们来看看diabetes数据集的类型和数据。 该类型应该是'Bunch'，它是一个类似于字典的对象，特别适用于加载sklearn内部示例数据集。"
   ]
  },
  {
   "cell_type": "markdown",
   "metadata": {},
   "source": [
    "<div class=\"alert alert-success alertsuccess\" style=\"margin-top: 5px\">\n",
    "代码示例：\n",
    "</div>"
   ]
  },
  {
   "cell_type": "markdown",
   "metadata": {
    "scrolled": true
   },
   "source": [
    "``` Python\n",
    "print(type(diabetes))\n",
    "print(diabetes)\n",
    "```"
   ]
  },
  {
   "cell_type": "markdown",
   "metadata": {},
   "source": [
    "<div class=\"alert alert-success alertsuccess\" style=\"margin-top: 10px\">\n",
    "☞ 轮到你了：\n",
    "</div>"
   ]
  },
  {
   "cell_type": "code",
   "execution_count": 4,
   "metadata": {
    "ExecuteTime": {
     "end_time": "2021-04-24T04:55:25.397868Z",
     "start_time": "2021-04-24T04:55:25.386870Z"
    }
   },
   "outputs": [
    {
     "name": "stdout",
     "output_type": "stream",
     "text": [
      "<class 'sklearn.utils.Bunch'>\n",
      "{'data': array([[ 0.03807591,  0.05068012,  0.06169621, ..., -0.00259226,\n",
      "         0.01990842, -0.01764613],\n",
      "       [-0.00188202, -0.04464164, -0.05147406, ..., -0.03949338,\n",
      "        -0.06832974, -0.09220405],\n",
      "       [ 0.08529891,  0.05068012,  0.04445121, ..., -0.00259226,\n",
      "         0.00286377, -0.02593034],\n",
      "       ...,\n",
      "       [ 0.04170844,  0.05068012, -0.01590626, ..., -0.01107952,\n",
      "        -0.04687948,  0.01549073],\n",
      "       [-0.04547248, -0.04464164,  0.03906215, ...,  0.02655962,\n",
      "         0.04452837, -0.02593034],\n",
      "       [-0.04547248, -0.04464164, -0.0730303 , ..., -0.03949338,\n",
      "        -0.00421986,  0.00306441]]), 'target': array([151.,  75., 141., 206., 135.,  97., 138.,  63., 110., 310., 101.,\n",
      "        69., 179., 185., 118., 171., 166., 144.,  97., 168.,  68.,  49.,\n",
      "        68., 245., 184., 202., 137.,  85., 131., 283., 129.,  59., 341.,\n",
      "        87.,  65., 102., 265., 276., 252.,  90., 100.,  55.,  61.,  92.,\n",
      "       259.,  53., 190., 142.,  75., 142., 155., 225.,  59., 104., 182.,\n",
      "       128.,  52.,  37., 170., 170.,  61., 144.,  52., 128.,  71., 163.,\n",
      "       150.,  97., 160., 178.,  48., 270., 202., 111.,  85.,  42., 170.,\n",
      "       200., 252., 113., 143.,  51.,  52., 210.,  65., 141.,  55., 134.,\n",
      "        42., 111.,  98., 164.,  48.,  96.,  90., 162., 150., 279.,  92.,\n",
      "        83., 128., 102., 302., 198.,  95.,  53., 134., 144., 232.,  81.,\n",
      "       104.,  59., 246., 297., 258., 229., 275., 281., 179., 200., 200.,\n",
      "       173., 180.,  84., 121., 161.,  99., 109., 115., 268., 274., 158.,\n",
      "       107.,  83., 103., 272.,  85., 280., 336., 281., 118., 317., 235.,\n",
      "        60., 174., 259., 178., 128.,  96., 126., 288.,  88., 292.,  71.,\n",
      "       197., 186.,  25.,  84.,  96., 195.,  53., 217., 172., 131., 214.,\n",
      "        59.,  70., 220., 268., 152.,  47.,  74., 295., 101., 151., 127.,\n",
      "       237., 225.,  81., 151., 107.,  64., 138., 185., 265., 101., 137.,\n",
      "       143., 141.,  79., 292., 178.,  91., 116.,  86., 122.,  72., 129.,\n",
      "       142.,  90., 158.,  39., 196., 222., 277.,  99., 196., 202., 155.,\n",
      "        77., 191.,  70.,  73.,  49.,  65., 263., 248., 296., 214., 185.,\n",
      "        78.,  93., 252., 150.,  77., 208.,  77., 108., 160.,  53., 220.,\n",
      "       154., 259.,  90., 246., 124.,  67.,  72., 257., 262., 275., 177.,\n",
      "        71.,  47., 187., 125.,  78.,  51., 258., 215., 303., 243.,  91.,\n",
      "       150., 310., 153., 346.,  63.,  89.,  50.,  39., 103., 308., 116.,\n",
      "       145.,  74.,  45., 115., 264.,  87., 202., 127., 182., 241.,  66.,\n",
      "        94., 283.,  64., 102., 200., 265.,  94., 230., 181., 156., 233.,\n",
      "        60., 219.,  80.,  68., 332., 248.,  84., 200.,  55.,  85.,  89.,\n",
      "        31., 129.,  83., 275.,  65., 198., 236., 253., 124.,  44., 172.,\n",
      "       114., 142., 109., 180., 144., 163., 147.,  97., 220., 190., 109.,\n",
      "       191., 122., 230., 242., 248., 249., 192., 131., 237.,  78., 135.,\n",
      "       244., 199., 270., 164.,  72.,  96., 306.,  91., 214.,  95., 216.,\n",
      "       263., 178., 113., 200., 139., 139.,  88., 148.,  88., 243.,  71.,\n",
      "        77., 109., 272.,  60.,  54., 221.,  90., 311., 281., 182., 321.,\n",
      "        58., 262., 206., 233., 242., 123., 167.,  63., 197.,  71., 168.,\n",
      "       140., 217., 121., 235., 245.,  40.,  52., 104., 132.,  88.,  69.,\n",
      "       219.,  72., 201., 110.,  51., 277.,  63., 118.,  69., 273., 258.,\n",
      "        43., 198., 242., 232., 175.,  93., 168., 275., 293., 281.,  72.,\n",
      "       140., 189., 181., 209., 136., 261., 113., 131., 174., 257.,  55.,\n",
      "        84.,  42., 146., 212., 233.,  91., 111., 152., 120.,  67., 310.,\n",
      "        94., 183.,  66., 173.,  72.,  49.,  64.,  48., 178., 104., 132.,\n",
      "       220.,  57.]), 'frame': None, 'DESCR': '.. _diabetes_dataset:\\n\\nDiabetes dataset\\n----------------\\n\\nTen baseline variables, age, sex, body mass index, average blood\\npressure, and six blood serum measurements were obtained for each of n =\\n442 diabetes patients, as well as the response of interest, a\\nquantitative measure of disease progression one year after baseline.\\n\\n**Data Set Characteristics:**\\n\\n  :Number of Instances: 442\\n\\n  :Number of Attributes: First 10 columns are numeric predictive values\\n\\n  :Target: Column 11 is a quantitative measure of disease progression one year after baseline\\n\\n  :Attribute Information:\\n      - age     age in years\\n      - sex\\n      - bmi     body mass index\\n      - bp      average blood pressure\\n      - s1      tc, T-Cells (a type of white blood cells)\\n      - s2      ldl, low-density lipoproteins\\n      - s3      hdl, high-density lipoproteins\\n      - s4      tch, thyroid stimulating hormone\\n      - s5      ltg, lamotrigine\\n      - s6      glu, blood sugar level\\n\\nNote: Each of these 10 feature variables have been mean centered and scaled by the standard deviation times `n_samples` (i.e. the sum of squares of each column totals 1).\\n\\nSource URL:\\nhttps://www4.stat.ncsu.edu/~boos/var.select/diabetes.html\\n\\nFor more information see:\\nBradley Efron, Trevor Hastie, Iain Johnstone and Robert Tibshirani (2004) \"Least Angle Regression,\" Annals of Statistics (with discussion), 407-499.\\n(https://web.stanford.edu/~hastie/Papers/LARS/LeastAngle_2002.pdf)', 'feature_names': ['age', 'sex', 'bmi', 'bp', 's1', 's2', 's3', 's4', 's5', 's6'], 'data_filename': 'c:\\\\users\\\\hp\\\\appdata\\\\local\\\\programs\\\\python\\\\python36\\\\lib\\\\site-packages\\\\sklearn\\\\datasets\\\\data\\\\diabetes_data.csv.gz', 'target_filename': 'c:\\\\users\\\\hp\\\\appdata\\\\local\\\\programs\\\\python\\\\python36\\\\lib\\\\site-packages\\\\sklearn\\\\datasets\\\\data\\\\diabetes_target.csv.gz'}\n"
     ]
    }
   ],
   "source": [
    "# 请输入代码：\n",
    "print(type(diabetes))\n",
    "print(diabetes)\n"
   ]
  },
  {
   "cell_type": "markdown",
   "metadata": {},
   "source": [
    "让我们来看看这个数据集的**描述(description)**了解更多的信息"
   ]
  },
  {
   "cell_type": "markdown",
   "metadata": {},
   "source": [
    "<div class=\"alert alert-success alertsuccess\" style=\"margin-top: 5px\">\n",
    "代码示例：\n",
    "</div>"
   ]
  },
  {
   "cell_type": "markdown",
   "metadata": {
    "scrolled": true
   },
   "source": [
    "``` Python\n",
    "print(diabetes.DESCR)\n",
    "```"
   ]
  },
  {
   "cell_type": "markdown",
   "metadata": {},
   "source": [
    "<div class=\"alert alert-success alertsuccess\" style=\"margin-top: 10px\">\n",
    "☞ 轮到你了：\n",
    "</div>"
   ]
  },
  {
   "cell_type": "code",
   "execution_count": 5,
   "metadata": {
    "ExecuteTime": {
     "end_time": "2021-04-24T04:55:35.971436Z",
     "start_time": "2021-04-24T04:55:35.966436Z"
    }
   },
   "outputs": [
    {
     "name": "stdout",
     "output_type": "stream",
     "text": [
      ".. _diabetes_dataset:\n",
      "\n",
      "Diabetes dataset\n",
      "----------------\n",
      "\n",
      "Ten baseline variables, age, sex, body mass index, average blood\n",
      "pressure, and six blood serum measurements were obtained for each of n =\n",
      "442 diabetes patients, as well as the response of interest, a\n",
      "quantitative measure of disease progression one year after baseline.\n",
      "\n",
      "**Data Set Characteristics:**\n",
      "\n",
      "  :Number of Instances: 442\n",
      "\n",
      "  :Number of Attributes: First 10 columns are numeric predictive values\n",
      "\n",
      "  :Target: Column 11 is a quantitative measure of disease progression one year after baseline\n",
      "\n",
      "  :Attribute Information:\n",
      "      - age     age in years\n",
      "      - sex\n",
      "      - bmi     body mass index\n",
      "      - bp      average blood pressure\n",
      "      - s1      tc, T-Cells (a type of white blood cells)\n",
      "      - s2      ldl, low-density lipoproteins\n",
      "      - s3      hdl, high-density lipoproteins\n",
      "      - s4      tch, thyroid stimulating hormone\n",
      "      - s5      ltg, lamotrigine\n",
      "      - s6      glu, blood sugar level\n",
      "\n",
      "Note: Each of these 10 feature variables have been mean centered and scaled by the standard deviation times `n_samples` (i.e. the sum of squares of each column totals 1).\n",
      "\n",
      "Source URL:\n",
      "https://www4.stat.ncsu.edu/~boos/var.select/diabetes.html\n",
      "\n",
      "For more information see:\n",
      "Bradley Efron, Trevor Hastie, Iain Johnstone and Robert Tibshirani (2004) \"Least Angle Regression,\" Annals of Statistics (with discussion), 407-499.\n",
      "(https://web.stanford.edu/~hastie/Papers/LARS/LeastAngle_2002.pdf)\n"
     ]
    }
   ],
   "source": [
    "# 请输入代码：\n",
    "print(diabetes.DESCR)\n"
   ]
  },
  {
   "cell_type": "markdown",
   "metadata": {},
   "source": [
    "让我们来看看这个数据集的样本特征集和样本标签"
   ]
  },
  {
   "cell_type": "markdown",
   "metadata": {},
   "source": [
    "<div class=\"alert alert-success alertsuccess\" style=\"margin-top: 5px\">\n",
    "代码示例：\n",
    "</div>"
   ]
  },
  {
   "cell_type": "markdown",
   "metadata": {
    "scrolled": true
   },
   "source": [
    "``` Python\n",
    "print('******data******')\n",
    "print(diabetes.data)\n",
    "print('******target******')\n",
    "print(diabetes.target)\n",
    "```"
   ]
  },
  {
   "cell_type": "markdown",
   "metadata": {},
   "source": [
    "<div class=\"alert alert-success alertsuccess\" style=\"margin-top: 10px\">\n",
    "☞ 轮到你了：\n",
    "</div>"
   ]
  },
  {
   "cell_type": "code",
   "execution_count": 6,
   "metadata": {
    "ExecuteTime": {
     "end_time": "2021-04-24T04:55:43.832357Z",
     "start_time": "2021-04-24T04:55:43.813327Z"
    }
   },
   "outputs": [
    {
     "name": "stdout",
     "output_type": "stream",
     "text": [
      "******data******\n",
      "[[ 0.03807591  0.05068012  0.06169621 ... -0.00259226  0.01990842\n",
      "  -0.01764613]\n",
      " [-0.00188202 -0.04464164 -0.05147406 ... -0.03949338 -0.06832974\n",
      "  -0.09220405]\n",
      " [ 0.08529891  0.05068012  0.04445121 ... -0.00259226  0.00286377\n",
      "  -0.02593034]\n",
      " ...\n",
      " [ 0.04170844  0.05068012 -0.01590626 ... -0.01107952 -0.04687948\n",
      "   0.01549073]\n",
      " [-0.04547248 -0.04464164  0.03906215 ...  0.02655962  0.04452837\n",
      "  -0.02593034]\n",
      " [-0.04547248 -0.04464164 -0.0730303  ... -0.03949338 -0.00421986\n",
      "   0.00306441]]\n",
      "******target******\n",
      "[151.  75. 141. 206. 135.  97. 138.  63. 110. 310. 101.  69. 179. 185.\n",
      " 118. 171. 166. 144.  97. 168.  68.  49.  68. 245. 184. 202. 137.  85.\n",
      " 131. 283. 129.  59. 341.  87.  65. 102. 265. 276. 252.  90. 100.  55.\n",
      "  61.  92. 259.  53. 190. 142.  75. 142. 155. 225.  59. 104. 182. 128.\n",
      "  52.  37. 170. 170.  61. 144.  52. 128.  71. 163. 150.  97. 160. 178.\n",
      "  48. 270. 202. 111.  85.  42. 170. 200. 252. 113. 143.  51.  52. 210.\n",
      "  65. 141.  55. 134.  42. 111.  98. 164.  48.  96.  90. 162. 150. 279.\n",
      "  92.  83. 128. 102. 302. 198.  95.  53. 134. 144. 232.  81. 104.  59.\n",
      " 246. 297. 258. 229. 275. 281. 179. 200. 200. 173. 180.  84. 121. 161.\n",
      "  99. 109. 115. 268. 274. 158. 107.  83. 103. 272.  85. 280. 336. 281.\n",
      " 118. 317. 235.  60. 174. 259. 178. 128.  96. 126. 288.  88. 292.  71.\n",
      " 197. 186.  25.  84.  96. 195.  53. 217. 172. 131. 214.  59.  70. 220.\n",
      " 268. 152.  47.  74. 295. 101. 151. 127. 237. 225.  81. 151. 107.  64.\n",
      " 138. 185. 265. 101. 137. 143. 141.  79. 292. 178.  91. 116.  86. 122.\n",
      "  72. 129. 142.  90. 158.  39. 196. 222. 277.  99. 196. 202. 155.  77.\n",
      " 191.  70.  73.  49.  65. 263. 248. 296. 214. 185.  78.  93. 252. 150.\n",
      "  77. 208.  77. 108. 160.  53. 220. 154. 259.  90. 246. 124.  67.  72.\n",
      " 257. 262. 275. 177.  71.  47. 187. 125.  78.  51. 258. 215. 303. 243.\n",
      "  91. 150. 310. 153. 346.  63.  89.  50.  39. 103. 308. 116. 145.  74.\n",
      "  45. 115. 264.  87. 202. 127. 182. 241.  66.  94. 283.  64. 102. 200.\n",
      " 265.  94. 230. 181. 156. 233.  60. 219.  80.  68. 332. 248.  84. 200.\n",
      "  55.  85.  89.  31. 129.  83. 275.  65. 198. 236. 253. 124.  44. 172.\n",
      " 114. 142. 109. 180. 144. 163. 147.  97. 220. 190. 109. 191. 122. 230.\n",
      " 242. 248. 249. 192. 131. 237.  78. 135. 244. 199. 270. 164.  72.  96.\n",
      " 306.  91. 214.  95. 216. 263. 178. 113. 200. 139. 139.  88. 148.  88.\n",
      " 243.  71.  77. 109. 272.  60.  54. 221.  90. 311. 281. 182. 321.  58.\n",
      " 262. 206. 233. 242. 123. 167.  63. 197.  71. 168. 140. 217. 121. 235.\n",
      " 245.  40.  52. 104. 132.  88.  69. 219.  72. 201. 110.  51. 277.  63.\n",
      " 118.  69. 273. 258.  43. 198. 242. 232. 175.  93. 168. 275. 293. 281.\n",
      "  72. 140. 189. 181. 209. 136. 261. 113. 131. 174. 257.  55.  84.  42.\n",
      " 146. 212. 233.  91. 111. 152. 120.  67. 310.  94. 183.  66. 173.  72.\n",
      "  49.  64.  48. 178. 104. 132. 220.  57.]\n"
     ]
    }
   ],
   "source": [
    "# 请输入代码：\n",
    "print('******data******')\n",
    "print(diabetes.data)\n",
    "print('******target******')\n",
    "print(diabetes.target)\n"
   ]
  },
  {
   "cell_type": "markdown",
   "metadata": {},
   "source": [
    "让我们来看看这个数据集的样本特征集和样本标签的形状。\n",
    "**注意**，样本特征集的形状是一个元组"
   ]
  },
  {
   "cell_type": "markdown",
   "metadata": {},
   "source": [
    "<div class=\"alert alert-success alertsuccess\" style=\"margin-top: 5px\">\n",
    "代码示例：\n",
    "</div>"
   ]
  },
  {
   "cell_type": "markdown",
   "metadata": {},
   "source": [
    "``` Python\n",
    "print (diabetes.data.shape)\n",
    "print (diabetes.target.shape)\n",
    "```"
   ]
  },
  {
   "cell_type": "markdown",
   "metadata": {},
   "source": [
    "<div class=\"alert alert-success alertsuccess\" style=\"margin-top: 10px\">\n",
    "☞ 轮到你了：\n",
    "</div>"
   ]
  },
  {
   "cell_type": "code",
   "execution_count": 7,
   "metadata": {
    "ExecuteTime": {
     "end_time": "2021-04-24T04:55:50.054398Z",
     "start_time": "2021-04-24T04:55:50.044396Z"
    }
   },
   "outputs": [
    {
     "name": "stdout",
     "output_type": "stream",
     "text": [
      "(442, 10)\n",
      "(442,)\n"
     ]
    }
   ],
   "source": [
    "# 请输入代码：\n",
    "print (diabetes.data.shape)\n",
    "print (diabetes.target.shape)\n"
   ]
  },
  {
   "cell_type": "markdown",
   "metadata": {},
   "source": [
    "#### 2.2 拆分数据\n",
    "\n",
    "利用model_seletion模块中的train_test_split函数，用于将矩阵随机划分为训练子集和测试子集，并返回划分好的训练集样本、测试集样本、训练集标签、测试集标签，并分别被定义为：X_train, X_test, y_train, y_test"
   ]
  },
  {
   "cell_type": "markdown",
   "metadata": {},
   "source": [
    "<div class=\"alert alert-success alertsuccess\" style=\"margin-top: 5px\">\n",
    "代码示例：\n",
    "</div>"
   ]
  },
  {
   "cell_type": "markdown",
   "metadata": {},
   "source": [
    "```python\n",
    "X_train, X_test, y_train, y_test = model_selection.train_test_split(diabetes.data,diabetes.target,test_size=0.25, random_state=0)\n",
    "```"
   ]
  },
  {
   "cell_type": "markdown",
   "metadata": {},
   "source": [
    "<div class=\"alert alert-success alertsuccess\" style=\"margin-top: 10px\">\n",
    "☞ 轮到你了：\n",
    "</div>"
   ]
  },
  {
   "cell_type": "code",
   "execution_count": 8,
   "metadata": {
    "ExecuteTime": {
     "end_time": "2021-04-24T04:55:59.486878Z",
     "start_time": "2021-04-24T04:55:59.475871Z"
    }
   },
   "outputs": [],
   "source": [
    "# 请输入代码：\n",
    "\n",
    "X_train, X_test, y_train, y_test = model_selection.train_test_split(diabetes.data,diabetes.target,test_size=0.25, random_state=0)"
   ]
  },
  {
   "cell_type": "markdown",
   "metadata": {},
   "source": [
    "参数解释：\n",
    "    - diabetes.data：被划分的diabetes样本特征集\n",
    "    - diabetes.target： 被划分的样本标签\n",
    "    - test_size：如果是浮点数，在0-1之间，表示样本占比；如果是整数的话就是样本的数量\n",
    "    - random_state：是随机数的种子"
   ]
  },
  {
   "cell_type": "markdown",
   "metadata": {},
   "source": [
    "让我们来看看训练集样本X_train、测试集样本X_test、训练集标签y_train、测试集标签y_test"
   ]
  },
  {
   "cell_type": "markdown",
   "metadata": {},
   "source": [
    "<div class=\"alert alert-success alertsuccess\" style=\"margin-top: 5px\">\n",
    "代码示例：\n",
    "</div>"
   ]
  },
  {
   "cell_type": "markdown",
   "metadata": {},
   "source": [
    "``` Python\n",
    "print('######X_train######')\n",
    "print(X_train)\n",
    "print('######X_test######')\n",
    "print(X_test)\n",
    "print('######y_train######')\n",
    "print(y_train)\n",
    "print('######y_test######')\n",
    "print(y_test)\n",
    "```"
   ]
  },
  {
   "cell_type": "markdown",
   "metadata": {},
   "source": [
    "<div class=\"alert alert-success alertsuccess\" style=\"margin-top: 10px\">\n",
    "☞ 轮到你了：\n",
    "</div>"
   ]
  },
  {
   "cell_type": "code",
   "execution_count": 9,
   "metadata": {
    "ExecuteTime": {
     "end_time": "2021-04-24T04:56:05.592178Z",
     "start_time": "2021-04-24T04:56:05.584186Z"
    }
   },
   "outputs": [
    {
     "name": "stdout",
     "output_type": "stream",
     "text": [
      "######X_train######\n",
      "[[-0.04910502 -0.04464164 -0.05686312 ... -0.03949338 -0.01190068\n",
      "   0.01549073]\n",
      " [-0.05273755 -0.04464164 -0.05578531 ...  0.03430886  0.13237265\n",
      "   0.00306441]\n",
      " [-0.09269548  0.05068012 -0.0902753  ... -0.00259226  0.02405258\n",
      "   0.00306441]\n",
      " ...\n",
      " [ 0.05987114 -0.04464164 -0.02129532 ...  0.07120998  0.07912108\n",
      "   0.13561183]\n",
      " [-0.07816532 -0.04464164 -0.0730303  ... -0.03949338 -0.01811827\n",
      "  -0.08391984]\n",
      " [ 0.04170844  0.05068012  0.07139652 ...  0.03430886  0.07341008\n",
      "   0.08590655]]\n",
      "######X_test######\n",
      "[[ 0.01991321  0.05068012  0.10480869 ... -0.00259226  0.00371174\n",
      "   0.04034337]\n",
      " [-0.01277963 -0.04464164  0.06061839 ...  0.03430886  0.0702113\n",
      "   0.00720652]\n",
      " [ 0.03807591  0.05068012  0.00888341 ... -0.00259226 -0.01811827\n",
      "   0.00720652]\n",
      " ...\n",
      " [-0.0854304  -0.04464164 -0.00405033 ... -0.03949338 -0.0611766\n",
      "  -0.01350402]\n",
      " [ 0.03807591  0.05068012 -0.02991782 ... -0.00259226 -0.01290794\n",
      "   0.00306441]\n",
      " [ 0.04170844  0.05068012  0.01966154 ... -0.00259226  0.03119299\n",
      "   0.00720652]]\n",
      "######y_train######\n",
      "[ 68. 109.  94. 118. 275. 275. 127. 281.  71.  42.  71. 128. 272. 135.\n",
      "  51. 220. 167.  78. 131. 212. 182. 174. 259.  77.  91. 310.  84. 134.\n",
      " 102. 128. 306. 245. 201. 183. 111.  96. 125. 182. 177.  48.  97. 259.\n",
      " 288. 242.  69.  31. 154. 150.  52. 261. 118. 102. 139.  51.  58. 144.\n",
      " 178.  97.  78. 129. 258. 124. 198. 185.  66. 237. 178. 275. 268. 242.\n",
      " 200. 214. 246. 236.  85. 114.  93.  99.  72. 270. 111.  83.  87.  42.\n",
      " 172.  65. 259. 279. 141. 144. 220.  90. 101.  53.  67.  72. 121. 303.\n",
      " 232. 140. 190. 221.  71. 116. 111. 280. 233.  78. 150. 283.  64. 140.\n",
      "  65. 225. 206.  63. 296. 173.  85. 141.  50.  25. 153.  55. 139. 336.\n",
      "  73.  95. 109.  44. 180. 263. 148.  79.  65. 102. 220. 277. 246. 200.\n",
      " 262. 191.  97. 184.  85. 248. 150. 268.  59.  70.  88. 100. 190. 113.\n",
      "  66. 243. 185. 262.  48. 160. 217. 210. 132. 257. 104. 126. 292. 166.\n",
      "  83.  81. 144. 281.  72.  39. 109.  60. 258. 178. 168.  87.  77. 216.\n",
      " 206. 142. 161. 265.  60. 200. 265. 272. 146.  94.  55.  69. 138. 258.\n",
      " 143. 172.  89.  69. 199.  55.  45. 265.  91. 170.  55. 202. 155.  77.\n",
      "  77.  71. 123.  84. 252.  52.  40. 274. 143. 245.  92. 151.  39. 235.\n",
      "  92. 253.  94.  81. 346.  90. 181. 162. 277. 152. 178. 124.  75. 263.\n",
      " 202. 200. 108.  96.  60.  72. 107.  54. 158. 152. 220. 308. 249. 222.\n",
      "  65. 173.  88.  72. 164.  52. 115. 200.  90. 248.  37. 230.  63. 273.\n",
      "  61.  53. 189. 241. 118. 252. 104. 219. 115. 332. 131. 185.  63. 131.\n",
      "  88. 187. 196.  59. 341. 109. 101. 113.  80. 242. 168. 128. 233. 209.\n",
      " 225.  83. 214.  96. 129.  47. 229. 293.  74. 202. 164. 202.  59.  91.\n",
      " 120. 151. 310.  90. 116. 147.  43.  42.  48. 134.  84.  71.  64.  70.\n",
      " 310. 311. 122. 243. 248.  91. 281. 142. 295.]\n",
      "######y_test######\n",
      "[321. 215. 127.  64. 175. 275. 179. 232. 142.  99. 252. 174. 129.  74.\n",
      " 264.  49.  86.  75. 101. 155. 170. 276. 110. 136.  68. 128. 103.  93.\n",
      " 191. 196. 217. 181. 168. 200. 219. 281. 151. 257.  49. 198.  96. 179.\n",
      "  95. 198. 244.  89. 214. 182.  84. 270. 156. 138. 113. 131. 195. 171.\n",
      " 122.  61. 230. 235.  52. 121. 144. 107. 132. 302.  53. 317. 137.  57.\n",
      "  98. 170.  88.  90.  67. 163. 104. 186. 180. 283. 141. 150.  47. 297.\n",
      " 104.  49. 103. 142.  59.  85. 137.  53.  51. 197. 135.  72. 208. 237.\n",
      " 145. 110. 292.  97. 197. 158. 163.  63. 192. 233.  68. 160. 178.]\n",
      "Collecting scikit-learn==0.22.1\n",
      "  Downloading scikit_learn-0.22.1-cp36-cp36m-win_amd64.whl (6.3 MB)\n",
      "Collecting numpy==1.16.0\n",
      "  Downloading numpy-1.16.0-cp36-cp36m-win_amd64.whl (11.9 MB)\n"
     ]
    },
    {
     "name": "stderr",
     "output_type": "stream",
     "text": [
      "ERROR: Exception:\n",
      "Traceback (most recent call last):\n",
      "  File \"c:\\users\\hp\\appdata\\local\\programs\\python\\python36\\lib\\site-packages\\pip\\_vendor\\resolvelib\\resolvers.py\", line 171, in _merge_into_criterion\n",
      "    crit = self.state.criteria[name]\n",
      "KeyError: 'scikit-learn'\n",
      "\n",
      "During handling of the above exception, another exception occurred:\n",
      "\n",
      "Traceback (most recent call last):\n",
      "  File \"c:\\users\\hp\\appdata\\local\\programs\\python\\python36\\lib\\site-packages\\pip\\_vendor\\urllib3\\response.py\", line 438, in _error_catcher\n",
      "    yield\n",
      "  File \"c:\\users\\hp\\appdata\\local\\programs\\python\\python36\\lib\\site-packages\\pip\\_vendor\\urllib3\\response.py\", line 519, in read\n",
      "    data = self._fp.read(amt) if not fp_closed else b\"\"\n",
      "  File \"c:\\users\\hp\\appdata\\local\\programs\\python\\python36\\lib\\site-packages\\pip\\_vendor\\cachecontrol\\filewrapper.py\", line 62, in read\n",
      "    data = self.__fp.read(amt)\n",
      "  File \"c:\\users\\hp\\appdata\\local\\programs\\python\\python36\\lib\\http\\client.py\", line 449, in read\n",
      "    n = self.readinto(b)\n",
      "  File \"c:\\users\\hp\\appdata\\local\\programs\\python\\python36\\lib\\http\\client.py\", line 493, in readinto\n",
      "    n = self.fp.readinto(b)\n",
      "  File \"c:\\users\\hp\\appdata\\local\\programs\\python\\python36\\lib\\socket.py\", line 586, in readinto\n",
      "    return self._sock.recv_into(b)\n",
      "  File \"c:\\users\\hp\\appdata\\local\\programs\\python\\python36\\lib\\ssl.py\", line 1012, in recv_into\n",
      "    return self.read(nbytes, buffer)\n",
      "  File \"c:\\users\\hp\\appdata\\local\\programs\\python\\python36\\lib\\ssl.py\", line 874, in read\n",
      "    return self._sslobj.read(len, buffer)\n",
      "  File \"c:\\users\\hp\\appdata\\local\\programs\\python\\python36\\lib\\ssl.py\", line 631, in read\n",
      "    v = self._sslobj.read(len, buffer)\n",
      "socket.timeout: The read operation timed out\n",
      "\n",
      "During handling of the above exception, another exception occurred:\n",
      "\n",
      "Traceback (most recent call last):\n",
      "  File \"c:\\users\\hp\\appdata\\local\\programs\\python\\python36\\lib\\site-packages\\pip\\_internal\\cli\\base_command.py\", line 189, in _main\n",
      "    status = self.run(options, args)\n",
      "  File \"c:\\users\\hp\\appdata\\local\\programs\\python\\python36\\lib\\site-packages\\pip\\_internal\\cli\\req_command.py\", line 178, in wrapper\n",
      "    return func(self, options, args)\n",
      "  File \"c:\\users\\hp\\appdata\\local\\programs\\python\\python36\\lib\\site-packages\\pip\\_internal\\commands\\install.py\", line 317, in run\n",
      "    reqs, check_supported_wheels=not options.target_dir\n",
      "  File \"c:\\users\\hp\\appdata\\local\\programs\\python\\python36\\lib\\site-packages\\pip\\_internal\\resolution\\resolvelib\\resolver.py\", line 122, in resolve\n",
      "    requirements, max_rounds=try_to_avoid_resolution_too_deep,\n",
      "  File \"c:\\users\\hp\\appdata\\local\\programs\\python\\python36\\lib\\site-packages\\pip\\_vendor\\resolvelib\\resolvers.py\", line 453, in resolve\n",
      "    state = resolution.resolve(requirements, max_rounds=max_rounds)\n",
      "  File \"c:\\users\\hp\\appdata\\local\\programs\\python\\python36\\lib\\site-packages\\pip\\_vendor\\resolvelib\\resolvers.py\", line 318, in resolve\n",
      "    name, crit = self._merge_into_criterion(r, parent=None)\n",
      "  File \"c:\\users\\hp\\appdata\\local\\programs\\python\\python36\\lib\\site-packages\\pip\\_vendor\\resolvelib\\resolvers.py\", line 173, in _merge_into_criterion\n",
      "    crit = Criterion.from_requirement(self._p, requirement, parent)\n",
      "  File \"c:\\users\\hp\\appdata\\local\\programs\\python\\python36\\lib\\site-packages\\pip\\_vendor\\resolvelib\\resolvers.py\", line 82, in from_requirement\n",
      "    if not cands:\n",
      "  File \"c:\\users\\hp\\appdata\\local\\programs\\python\\python36\\lib\\site-packages\\pip\\_vendor\\resolvelib\\structs.py\", line 124, in __bool__\n",
      "    return bool(self._sequence)\n",
      "  File \"c:\\users\\hp\\appdata\\local\\programs\\python\\python36\\lib\\site-packages\\pip\\_internal\\resolution\\resolvelib\\found_candidates.py\", line 143, in __bool__\n",
      "    return any(self)\n",
      "  File \"c:\\users\\hp\\appdata\\local\\programs\\python\\python36\\lib\\site-packages\\pip\\_internal\\resolution\\resolvelib\\found_candidates.py\", line 38, in _iter_built\n",
      "    candidate = func()\n",
      "  File \"c:\\users\\hp\\appdata\\local\\programs\\python\\python36\\lib\\site-packages\\pip\\_internal\\resolution\\resolvelib\\factory.py\", line 169, in _make_candidate_from_link\n",
      "    name=name, version=version,\n",
      "  File \"c:\\users\\hp\\appdata\\local\\programs\\python\\python36\\lib\\site-packages\\pip\\_internal\\resolution\\resolvelib\\candidates.py\", line 306, in __init__\n",
      "    version=version,\n",
      "  File \"c:\\users\\hp\\appdata\\local\\programs\\python\\python36\\lib\\site-packages\\pip\\_internal\\resolution\\resolvelib\\candidates.py\", line 144, in __init__\n",
      "    self.dist = self._prepare()\n",
      "  File \"c:\\users\\hp\\appdata\\local\\programs\\python\\python36\\lib\\site-packages\\pip\\_internal\\resolution\\resolvelib\\candidates.py\", line 226, in _prepare\n",
      "    dist = self._prepare_distribution()\n",
      "  File \"c:\\users\\hp\\appdata\\local\\programs\\python\\python36\\lib\\site-packages\\pip\\_internal\\resolution\\resolvelib\\candidates.py\", line 312, in _prepare_distribution\n",
      "    self._ireq, parallel_builds=True,\n",
      "  File \"c:\\users\\hp\\appdata\\local\\programs\\python\\python36\\lib\\site-packages\\pip\\_internal\\operations\\prepare.py\", line 457, in prepare_linked_requirement\n",
      "    return self._prepare_linked_requirement(req, parallel_builds)\n",
      "  File \"c:\\users\\hp\\appdata\\local\\programs\\python\\python36\\lib\\site-packages\\pip\\_internal\\operations\\prepare.py\", line 482, in _prepare_linked_requirement\n",
      "    self.download_dir, hashes,\n",
      "  File \"c:\\users\\hp\\appdata\\local\\programs\\python\\python36\\lib\\site-packages\\pip\\_internal\\operations\\prepare.py\", line 234, in unpack_url\n",
      "    hashes=hashes,\n",
      "  File \"c:\\users\\hp\\appdata\\local\\programs\\python\\python36\\lib\\site-packages\\pip\\_internal\\operations\\prepare.py\", line 108, in get_http_url\n",
      "    from_path, content_type = download(link, temp_dir.path)\n",
      "  File \"c:\\users\\hp\\appdata\\local\\programs\\python\\python36\\lib\\site-packages\\pip\\_internal\\network\\download.py\", line 163, in __call__\n",
      "    for chunk in chunks:\n",
      "  File \"c:\\users\\hp\\appdata\\local\\programs\\python\\python36\\lib\\site-packages\\pip\\_internal\\cli\\progress_bars.py\", line 159, in iter\n",
      "    for x in it:\n",
      "  File \"c:\\users\\hp\\appdata\\local\\programs\\python\\python36\\lib\\site-packages\\pip\\_internal\\network\\utils.py\", line 88, in response_chunks\n",
      "    decode_content=False,\n",
      "  File \"c:\\users\\hp\\appdata\\local\\programs\\python\\python36\\lib\\site-packages\\pip\\_vendor\\urllib3\\response.py\", line 576, in stream\n",
      "    data = self.read(amt=amt, decode_content=decode_content)\n",
      "  File \"c:\\users\\hp\\appdata\\local\\programs\\python\\python36\\lib\\site-packages\\pip\\_vendor\\urllib3\\response.py\", line 541, in read\n",
      "    raise IncompleteRead(self._fp_bytes_read, self.length_remaining)\n",
      "  File \"c:\\users\\hp\\appdata\\local\\programs\\python\\python36\\lib\\contextlib.py\", line 99, in __exit__\n",
      "    self.gen.throw(type, value, traceback)\n",
      "  File \"c:\\users\\hp\\appdata\\local\\programs\\python\\python36\\lib\\site-packages\\pip\\_vendor\\urllib3\\response.py\", line 443, in _error_catcher\n",
      "    raise ReadTimeoutError(self._pool, None, \"Read timed out.\")\n",
      "pip._vendor.urllib3.exceptions.ReadTimeoutError: HTTPSConnectionPool(host='files.pythonhosted.org', port=443): Read timed out.\n",
      "ERROR: Exception:\n",
      "Traceback (most recent call last):\n",
      "  File \"c:\\users\\hp\\appdata\\local\\programs\\python\\python36\\lib\\site-packages\\pip\\_vendor\\resolvelib\\resolvers.py\", line 171, in _merge_into_criterion\n",
      "    crit = self.state.criteria[name]\n",
      "KeyError: 'numpy'\n",
      "\n",
      "During handling of the above exception, another exception occurred:\n",
      "\n",
      "Traceback (most recent call last):\n",
      "  File \"c:\\users\\hp\\appdata\\local\\programs\\python\\python36\\lib\\site-packages\\pip\\_vendor\\urllib3\\response.py\", line 438, in _error_catcher\n",
      "    yield\n",
      "  File \"c:\\users\\hp\\appdata\\local\\programs\\python\\python36\\lib\\site-packages\\pip\\_vendor\\urllib3\\response.py\", line 519, in read\n",
      "    data = self._fp.read(amt) if not fp_closed else b\"\"\n",
      "  File \"c:\\users\\hp\\appdata\\local\\programs\\python\\python36\\lib\\site-packages\\pip\\_vendor\\cachecontrol\\filewrapper.py\", line 62, in read\n",
      "    data = self.__fp.read(amt)\n",
      "  File \"c:\\users\\hp\\appdata\\local\\programs\\python\\python36\\lib\\http\\client.py\", line 449, in read\n",
      "    n = self.readinto(b)\n",
      "  File \"c:\\users\\hp\\appdata\\local\\programs\\python\\python36\\lib\\http\\client.py\", line 493, in readinto\n",
      "    n = self.fp.readinto(b)\n",
      "  File \"c:\\users\\hp\\appdata\\local\\programs\\python\\python36\\lib\\socket.py\", line 586, in readinto\n",
      "    return self._sock.recv_into(b)\n",
      "  File \"c:\\users\\hp\\appdata\\local\\programs\\python\\python36\\lib\\ssl.py\", line 1012, in recv_into\n",
      "    return self.read(nbytes, buffer)\n",
      "  File \"c:\\users\\hp\\appdata\\local\\programs\\python\\python36\\lib\\ssl.py\", line 874, in read\n",
      "    return self._sslobj.read(len, buffer)\n",
      "  File \"c:\\users\\hp\\appdata\\local\\programs\\python\\python36\\lib\\ssl.py\", line 631, in read\n",
      "    v = self._sslobj.read(len, buffer)\n",
      "socket.timeout: The read operation timed out\n",
      "\n",
      "During handling of the above exception, another exception occurred:\n",
      "\n",
      "Traceback (most recent call last):\n",
      "  File \"c:\\users\\hp\\appdata\\local\\programs\\python\\python36\\lib\\site-packages\\pip\\_internal\\cli\\base_command.py\", line 189, in _main\n",
      "    status = self.run(options, args)\n",
      "  File \"c:\\users\\hp\\appdata\\local\\programs\\python\\python36\\lib\\site-packages\\pip\\_internal\\cli\\req_command.py\", line 178, in wrapper\n",
      "    return func(self, options, args)\n",
      "  File \"c:\\users\\hp\\appdata\\local\\programs\\python\\python36\\lib\\site-packages\\pip\\_internal\\commands\\install.py\", line 317, in run\n",
      "    reqs, check_supported_wheels=not options.target_dir\n",
      "  File \"c:\\users\\hp\\appdata\\local\\programs\\python\\python36\\lib\\site-packages\\pip\\_internal\\resolution\\resolvelib\\resolver.py\", line 122, in resolve\n",
      "    requirements, max_rounds=try_to_avoid_resolution_too_deep,\n",
      "  File \"c:\\users\\hp\\appdata\\local\\programs\\python\\python36\\lib\\site-packages\\pip\\_vendor\\resolvelib\\resolvers.py\", line 453, in resolve\n",
      "    state = resolution.resolve(requirements, max_rounds=max_rounds)\n",
      "  File \"c:\\users\\hp\\appdata\\local\\programs\\python\\python36\\lib\\site-packages\\pip\\_vendor\\resolvelib\\resolvers.py\", line 318, in resolve\n",
      "    name, crit = self._merge_into_criterion(r, parent=None)\n",
      "  File \"c:\\users\\hp\\appdata\\local\\programs\\python\\python36\\lib\\site-packages\\pip\\_vendor\\resolvelib\\resolvers.py\", line 173, in _merge_into_criterion\n",
      "    crit = Criterion.from_requirement(self._p, requirement, parent)\n",
      "  File \"c:\\users\\hp\\appdata\\local\\programs\\python\\python36\\lib\\site-packages\\pip\\_vendor\\resolvelib\\resolvers.py\", line 82, in from_requirement\n",
      "    if not cands:\n",
      "  File \"c:\\users\\hp\\appdata\\local\\programs\\python\\python36\\lib\\site-packages\\pip\\_vendor\\resolvelib\\structs.py\", line 124, in __bool__\n",
      "    return bool(self._sequence)\n",
      "  File \"c:\\users\\hp\\appdata\\local\\programs\\python\\python36\\lib\\site-packages\\pip\\_internal\\resolution\\resolvelib\\found_candidates.py\", line 143, in __bool__\n",
      "    return any(self)\n",
      "  File \"c:\\users\\hp\\appdata\\local\\programs\\python\\python36\\lib\\site-packages\\pip\\_internal\\resolution\\resolvelib\\found_candidates.py\", line 38, in _iter_built\n",
      "    candidate = func()\n",
      "  File \"c:\\users\\hp\\appdata\\local\\programs\\python\\python36\\lib\\site-packages\\pip\\_internal\\resolution\\resolvelib\\factory.py\", line 169, in _make_candidate_from_link\n",
      "    name=name, version=version,\n",
      "  File \"c:\\users\\hp\\appdata\\local\\programs\\python\\python36\\lib\\site-packages\\pip\\_internal\\resolution\\resolvelib\\candidates.py\", line 306, in __init__\n",
      "    version=version,\n",
      "  File \"c:\\users\\hp\\appdata\\local\\programs\\python\\python36\\lib\\site-packages\\pip\\_internal\\resolution\\resolvelib\\candidates.py\", line 144, in __init__\n",
      "    self.dist = self._prepare()\n",
      "  File \"c:\\users\\hp\\appdata\\local\\programs\\python\\python36\\lib\\site-packages\\pip\\_internal\\resolution\\resolvelib\\candidates.py\", line 226, in _prepare\n",
      "    dist = self._prepare_distribution()\n",
      "  File \"c:\\users\\hp\\appdata\\local\\programs\\python\\python36\\lib\\site-packages\\pip\\_internal\\resolution\\resolvelib\\candidates.py\", line 312, in _prepare_distribution\n",
      "    self._ireq, parallel_builds=True,\n",
      "  File \"c:\\users\\hp\\appdata\\local\\programs\\python\\python36\\lib\\site-packages\\pip\\_internal\\operations\\prepare.py\", line 457, in prepare_linked_requirement\n",
      "    return self._prepare_linked_requirement(req, parallel_builds)\n",
      "  File \"c:\\users\\hp\\appdata\\local\\programs\\python\\python36\\lib\\site-packages\\pip\\_internal\\operations\\prepare.py\", line 482, in _prepare_linked_requirement\n",
      "    self.download_dir, hashes,\n",
      "  File \"c:\\users\\hp\\appdata\\local\\programs\\python\\python36\\lib\\site-packages\\pip\\_internal\\operations\\prepare.py\", line 234, in unpack_url\n",
      "    hashes=hashes,\n",
      "  File \"c:\\users\\hp\\appdata\\local\\programs\\python\\python36\\lib\\site-packages\\pip\\_internal\\operations\\prepare.py\", line 108, in get_http_url\n",
      "    from_path, content_type = download(link, temp_dir.path)\n",
      "  File \"c:\\users\\hp\\appdata\\local\\programs\\python\\python36\\lib\\site-packages\\pip\\_internal\\network\\download.py\", line 163, in __call__\n",
      "    for chunk in chunks:\n",
      "  File \"c:\\users\\hp\\appdata\\local\\programs\\python\\python36\\lib\\site-packages\\pip\\_internal\\cli\\progress_bars.py\", line 159, in iter\n",
      "    for x in it:\n",
      "  File \"c:\\users\\hp\\appdata\\local\\programs\\python\\python36\\lib\\site-packages\\pip\\_internal\\network\\utils.py\", line 88, in response_chunks\n",
      "    decode_content=False,\n",
      "  File \"c:\\users\\hp\\appdata\\local\\programs\\python\\python36\\lib\\site-packages\\pip\\_vendor\\urllib3\\response.py\", line 576, in stream\n",
      "    data = self.read(amt=amt, decode_content=decode_content)\n",
      "  File \"c:\\users\\hp\\appdata\\local\\programs\\python\\python36\\lib\\site-packages\\pip\\_vendor\\urllib3\\response.py\", line 541, in read\n",
      "    raise IncompleteRead(self._fp_bytes_read, self.length_remaining)\n",
      "  File \"c:\\users\\hp\\appdata\\local\\programs\\python\\python36\\lib\\contextlib.py\", line 99, in __exit__\n",
      "    self.gen.throw(type, value, traceback)\n",
      "  File \"c:\\users\\hp\\appdata\\local\\programs\\python\\python36\\lib\\site-packages\\pip\\_vendor\\urllib3\\response.py\", line 443, in _error_catcher\n",
      "    raise ReadTimeoutError(self._pool, None, \"Read timed out.\")\n",
      "pip._vendor.urllib3.exceptions.ReadTimeoutError: HTTPSConnectionPool(host='files.pythonhosted.org', port=443): Read timed out.\n"
     ]
    }
   ],
   "source": [
    "# 请输入代码：\n",
    "print('######X_train######')\n",
    "print(X_train)\n",
    "print('######X_test######')\n",
    "print(X_test)\n",
    "print('######y_train######')\n",
    "print(y_train)\n",
    "print('######y_test######')\n",
    "print(y_test)\n"
   ]
  },
  {
   "cell_type": "markdown",
   "metadata": {},
   "source": [
    "让我们来看看训练集样本X_train、测试集样本X_test、训练集标签y_train、测试集标签y_test的*形状*"
   ]
  },
  {
   "cell_type": "markdown",
   "metadata": {},
   "source": [
    "<div class=\"alert alert-success alertsuccess\" style=\"margin-top: 5px\">\n",
    "代码示例：\n",
    "</div>"
   ]
  },
  {
   "cell_type": "markdown",
   "metadata": {},
   "source": [
    "``` Python\n",
    "print('######X_train######')\n",
    "print(X_train.shape)\n",
    "print('######X_test######')\n",
    "print(X_test.shape)\n",
    "print('######y_train######')\n",
    "print(y_train.shape)\n",
    "print('######y_test######')\n",
    "print(y_test.shape)\n",
    "```"
   ]
  },
  {
   "cell_type": "markdown",
   "metadata": {},
   "source": [
    "<div class=\"alert alert-success alertsuccess\" style=\"margin-top: 10px\">\n",
    "☞ 轮到你了：\n",
    "</div>"
   ]
  },
  {
   "cell_type": "code",
   "execution_count": 10,
   "metadata": {
    "ExecuteTime": {
     "end_time": "2021-04-24T04:56:12.680818Z",
     "start_time": "2021-04-24T04:56:12.672795Z"
    }
   },
   "outputs": [
    {
     "name": "stdout",
     "output_type": "stream",
     "text": [
      "######X_train######\n",
      "(331, 10)\n",
      "######X_test######\n",
      "(111, 10)\n",
      "######y_train######\n",
      "(331,)\n",
      "######y_test######\n",
      "(111,)\n"
     ]
    }
   ],
   "source": [
    "# 请输入代码：\n",
    "print('######X_train######')\n",
    "print(X_train.shape)\n",
    "print('######X_test######')\n",
    "print(X_test.shape)\n",
    "print('######y_train######')\n",
    "print(y_train.shape)\n",
    "print('######y_test######')\n",
    "print(y_test.shape)\n"
   ]
  },
  {
   "cell_type": "markdown",
   "metadata": {},
   "source": [
    "### 步骤3 拟合预测"
   ]
  },
  {
   "cell_type": "markdown",
   "metadata": {},
   "source": [
    "#### 3.1 线性回归模型"
   ]
  },
  {
   "cell_type": "markdown",
   "metadata": {},
   "source": [
    "属性：\n",
    "   - coef_：权重向量\n",
    "   - intercept：$b$ 值\n",
    "\n",
    "方法：\n",
    "   - fit(X, y[,sample_weight])：训练模型\n",
    "   - predict(X)：用模型进行预测，返回预测值\n",
    "   - score(X, y[,sample_weight])：返回预测性能得分。设预测集为$T_{test}$,真实值为$y_i$,真实值的均值为$\\bar{y}$,预测值为$\\hat{y_i}$,则\n",
    "   $$score=1-\\frac{\\sum\\nolimits_{T_{test}}(y_i-\\hat{y_i})^2}{(y_i-\\bar{y})^2}\\qquad$$\n",
    "        - score不超过1，但是可能为负值（预测效果太差的情况）\n",
    "        - score越大，预测性能越好"
   ]
  },
  {
   "cell_type": "markdown",
   "metadata": {},
   "source": [
    "现在创建一个名为regr的LinearRegression实例"
   ]
  },
  {
   "cell_type": "markdown",
   "metadata": {},
   "source": [
    "<div class=\"alert alert-success alertsuccess\" style=\"margin-top: 5px\">\n",
    "代码示例：\n",
    "</div>"
   ]
  },
  {
   "cell_type": "markdown",
   "metadata": {},
   "source": [
    "``` Python\n",
    "regr = linear_model.LinearRegression()\n",
    "```"
   ]
  },
  {
   "cell_type": "markdown",
   "metadata": {},
   "source": [
    "<div class=\"alert alert-success alertsuccess\" style=\"margin-top: 10px\">\n",
    "☞ 轮到你了：\n",
    "</div>"
   ]
  },
  {
   "cell_type": "code",
   "execution_count": 11,
   "metadata": {
    "ExecuteTime": {
     "end_time": "2021-04-24T04:56:19.652138Z",
     "start_time": "2021-04-24T04:56:19.647100Z"
    }
   },
   "outputs": [],
   "source": [
    "# 请输入代码：\n",
    "regr = linear_model.LinearRegression()\n"
   ]
  },
  {
   "cell_type": "markdown",
   "metadata": {},
   "source": [
    "利用regr模型训练X_train和y_train"
   ]
  },
  {
   "cell_type": "markdown",
   "metadata": {},
   "source": [
    "<div class=\"alert alert-success alertsuccess\" style=\"margin-top: 5px\">\n",
    "代码示例：\n",
    "</div>"
   ]
  },
  {
   "cell_type": "markdown",
   "metadata": {},
   "source": [
    "``` Python\n",
    "regr.fit(X_train, y_train)\n",
    "```"
   ]
  },
  {
   "cell_type": "markdown",
   "metadata": {},
   "source": [
    "<div class=\"alert alert-success alertsuccess\" style=\"margin-top: 10px\">\n",
    "☞ 轮到你了：\n",
    "</div>"
   ]
  },
  {
   "cell_type": "code",
   "execution_count": 12,
   "metadata": {
    "ExecuteTime": {
     "end_time": "2021-04-24T04:56:24.695286Z",
     "start_time": "2021-04-24T04:56:24.668241Z"
    }
   },
   "outputs": [
    {
     "data": {
      "text/plain": [
       "LinearRegression()"
      ]
     },
     "execution_count": 12,
     "metadata": {},
     "output_type": "execute_result"
    }
   ],
   "source": [
    "# 请输入代码：\n",
    "regr.fit(X_train, y_train)\n"
   ]
  },
  {
   "cell_type": "markdown",
   "metadata": {},
   "source": [
    "回归评价"
   ]
  },
  {
   "cell_type": "markdown",
   "metadata": {},
   "source": [
    "<div class=\"alert alert-success alertsuccess\" style=\"margin-top: 5px\">\n",
    "代码示例：\n",
    "</div>"
   ]
  },
  {
   "cell_type": "markdown",
   "metadata": {
    "scrolled": true
   },
   "source": [
    "``` Python\n",
    "print('Coefficients:%s, intercept %s' % (regr.coef_,regr.intercept_))\n",
    "print(\"Residual sum of squares: %.2f\"% np.mean((regr.predict(X_test) - y_test) ** 2))\n",
    "print('Score: %.2f' % regr.score(X_test, y_test))\n",
    "```"
   ]
  },
  {
   "cell_type": "markdown",
   "metadata": {},
   "source": [
    "<div class=\"alert alert-success alertsuccess\" style=\"margin-top: 10px\">\n",
    "☞ 轮到你了：\n",
    "</div>"
   ]
  },
  {
   "cell_type": "code",
   "execution_count": 13,
   "metadata": {
    "ExecuteTime": {
     "end_time": "2021-04-24T04:56:29.602831Z",
     "start_time": "2021-04-24T04:56:29.594831Z"
    }
   },
   "outputs": [
    {
     "name": "stdout",
     "output_type": "stream",
     "text": [
      "Coefficients:[ -43.26774487 -208.67053951  593.39797213  302.89814903 -560.27689824\n",
      "  261.47657106   -8.83343952  135.93715156  703.22658427   28.34844354], intercept 153.06798218266258\n",
      "Residual sum of squares: 3180.20\n",
      "Score: 0.36\n"
     ]
    }
   ],
   "source": [
    "# 请输入代码：\n",
    "print('Coefficients:%s, intercept %s' % (regr.coef_,regr.intercept_))\n",
    "print(\"Residual sum of squares: %.2f\"% np.mean((regr.predict(X_test) - y_test) ** 2))\n",
    "print('Score: %.2f' % regr.score(X_test, y_test))\n"
   ]
  },
  {
   "cell_type": "markdown",
   "metadata": {},
   "source": [
    "可以看出测试集中预测结果的的均方误差为3180.20，预测性能仅为0.36（该值越大越好，1.0为最佳）"
   ]
  },
  {
   "cell_type": "markdown",
   "metadata": {},
   "source": [
    "#### 3.2 岭回归"
   ]
  },
  {
   "cell_type": "markdown",
   "metadata": {},
   "source": [
    "属性：\n",
    "   - coef：权重向量\n",
    "   - intercept：$b$ 值\n",
    "   - n_iter：实际迭代次数\n",
    "\n",
    "方法：\n",
    "   - fit(X, y[,sample_weight])：训练模型\n",
    "   - predict(X)：用模型进行预测，返回预测值\n",
    "   - score(X, y[,sample_weight])：返回预测性能得分。设预测集为$T_{test}$,真实值为$y_i$,真实值的均值为$\\bar{y}$,预测值为$\\hat{y_i}$,则\n",
    "   $$score=1-\\frac{\\sum\\nolimits_{T_{test}}(y_i-\\hat{y_i})^2}{(y_i-\\bar{y})^2}\\qquad$$\n",
    "        - score不超过1，但是可能为负值（预测效果太差的情况）\n",
    "        - score越大，预测性能越好"
   ]
  },
  {
   "cell_type": "markdown",
   "metadata": {},
   "source": [
    "现在创建一个名为regr_R的Ridge实例"
   ]
  },
  {
   "cell_type": "markdown",
   "metadata": {},
   "source": [
    "<div class=\"alert alert-success alertsuccess\" style=\"margin-top: 5px\">\n",
    "代码示例：\n",
    "</div>"
   ]
  },
  {
   "cell_type": "markdown",
   "metadata": {},
   "source": [
    "``` Python\n",
    "regr_R = linear_model.Ridge()\n",
    "```"
   ]
  },
  {
   "cell_type": "markdown",
   "metadata": {},
   "source": [
    "<div class=\"alert alert-success alertsuccess\" style=\"margin-top: 10px\">\n",
    "☞ 轮到你了：\n",
    "</div>"
   ]
  },
  {
   "cell_type": "code",
   "execution_count": 14,
   "metadata": {
    "ExecuteTime": {
     "end_time": "2021-04-24T04:56:36.714962Z",
     "start_time": "2021-04-24T04:56:36.706966Z"
    }
   },
   "outputs": [],
   "source": [
    "# 请输入代码：\n",
    "regr_R = linear_model.Ridge()\n"
   ]
  },
  {
   "cell_type": "markdown",
   "metadata": {},
   "source": [
    "利用regr_R模型训练X_train和y_train"
   ]
  },
  {
   "cell_type": "markdown",
   "metadata": {},
   "source": [
    "<div class=\"alert alert-success alertsuccess\" style=\"margin-top: 5px\">\n",
    "代码示例：\n",
    "</div>"
   ]
  },
  {
   "cell_type": "markdown",
   "metadata": {},
   "source": [
    "``` Python\n",
    "regr_R.fit(X_train, y_train)\n",
    "```"
   ]
  },
  {
   "cell_type": "markdown",
   "metadata": {},
   "source": [
    "<div class=\"alert alert-success alertsuccess\" style=\"margin-top: 10px\">\n",
    "☞ 轮到你了：\n",
    "</div>"
   ]
  },
  {
   "cell_type": "code",
   "execution_count": 15,
   "metadata": {
    "ExecuteTime": {
     "end_time": "2021-04-24T04:56:42.319861Z",
     "start_time": "2021-04-24T04:56:42.310218Z"
    }
   },
   "outputs": [
    {
     "data": {
      "text/plain": [
       "Ridge()"
      ]
     },
     "execution_count": 15,
     "metadata": {},
     "output_type": "execute_result"
    }
   ],
   "source": [
    "# 请输入代码：\n",
    "\n",
    "regr_R.fit(X_train, y_train)"
   ]
  },
  {
   "cell_type": "markdown",
   "metadata": {},
   "source": [
    "回归评价"
   ]
  },
  {
   "cell_type": "markdown",
   "metadata": {},
   "source": [
    "<div class=\"alert alert-success alertsuccess\" style=\"margin-top: 5px\">\n",
    "代码示例：\n",
    "</div>"
   ]
  },
  {
   "cell_type": "markdown",
   "metadata": {
    "scrolled": true
   },
   "source": [
    "``` Python\n",
    "print('Coefficients:%s, intercept %s'%(regr_R.coef_,regr_R.intercept_))\n",
    "print(\"Residual sum of squares: %.2f\"% np.mean((regr_R.predict(X_test) - y_test) ** 2))\n",
    "print('Score: %.2f' % regr_R.score(X_test, y_test))\n",
    "```"
   ]
  },
  {
   "cell_type": "markdown",
   "metadata": {},
   "source": [
    "<div class=\"alert alert-success alertsuccess\" style=\"margin-top: 10px\">\n",
    "☞ 轮到你了：\n",
    "</div>"
   ]
  },
  {
   "cell_type": "code",
   "execution_count": 16,
   "metadata": {
    "ExecuteTime": {
     "end_time": "2021-04-24T04:56:47.810215Z",
     "start_time": "2021-04-24T04:56:47.803220Z"
    }
   },
   "outputs": [
    {
     "name": "stdout",
     "output_type": "stream",
     "text": [
      "Coefficients:[  21.19927911  -60.47711393  302.87575204  179.41206395    8.90911449\n",
      "  -28.8080548  -149.30722541  112.67185758  250.53760873   99.57749017], intercept 152.4477761489962\n",
      "Residual sum of squares: 3192.33\n",
      "Score: 0.36\n"
     ]
    }
   ],
   "source": [
    "# 请输入代码：\n",
    "print('Coefficients:%s, intercept %s'%(regr_R.coef_,regr_R.intercept_))\n",
    "print(\"Residual sum of squares: %.2f\"% np.mean((regr_R.predict(X_test) - y_test) ** 2))\n",
    "print('Score: %.2f' % regr_R.score(X_test, y_test))\n"
   ]
  },
  {
   "cell_type": "markdown",
   "metadata": {},
   "source": [
    "可以看到测试集中预测结果的均方误差为3192.33，预测性能得分仅为0.36"
   ]
  },
  {
   "cell_type": "markdown",
   "metadata": {},
   "source": [
    "-------------------------------"
   ]
  },
  {
   "cell_type": "markdown",
   "metadata": {},
   "source": [
    "<div class=\"alert alert-danger alertdanger\" style=\"margin-top: 20px\">\n",
    "<h4> 练习1</h4>\n",
    "<b>使用china_gdp.csv数据数据集，以年份为自变量，GDP为因变量构建线性回归模型。</b>\n",
    "</div>"
   ]
  },
  {
   "cell_type": "markdown",
   "metadata": {},
   "source": [
    "运行下面代码，读取china_gdp.csv数据。该数据集包含两个变量年份（Year）和中国的GDP（Value）。"
   ]
  },
  {
   "cell_type": "markdown",
   "metadata": {},
   "source": [
    "<div class=\"alert alert-success alertsuccess\" style=\"margin-top: 5px\">\n",
    "代码示例：\n",
    "</div>"
   ]
  },
  {
   "cell_type": "markdown",
   "metadata": {},
   "source": [
    "``` Python\n",
    "import numpy as np\n",
    "import pandas\n",
    "my_data = pandas.read_csv(\"china_gdp.csv\", delimiter=\",\")\n",
    "print(my_data)\n",
    "```"
   ]
  },
  {
   "cell_type": "markdown",
   "metadata": {},
   "source": [
    "<div class=\"alert alert-success alertsuccess\" style=\"margin-top: 10px\">\n",
    "☞ 轮到你了：\n",
    "</div>"
   ]
  },
  {
   "cell_type": "code",
   "execution_count": 22,
   "metadata": {
    "ExecuteTime": {
     "end_time": "2021-04-24T05:01:28.964604Z",
     "start_time": "2021-04-24T05:01:28.936572Z"
    }
   },
   "outputs": [
    {
     "name": "stdout",
     "output_type": "stream",
     "text": [
      "     #  Year         Value\n",
      "0    1  1960  5.918412e+10\n",
      "1    2  1961  4.955705e+10\n",
      "2    3  1962  4.668518e+10\n",
      "3    4  1963  5.009730e+10\n",
      "4    5  1964  5.906225e+10\n",
      "5    6  1965  6.970915e+10\n",
      "6    7  1966  7.587943e+10\n",
      "7    8  1967  7.205703e+10\n",
      "8    9  1968  6.999350e+10\n",
      "9   10  1969  7.871882e+10\n",
      "10  11  1970  9.150621e+10\n",
      "11  12  1971  9.856202e+10\n",
      "12  13  1972  1.121600e+11\n",
      "13  14  1973  1.367700e+11\n",
      "14  15  1974  1.422550e+11\n",
      "15  16  1975  1.611620e+11\n",
      "16  17  1976  1.516280e+11\n",
      "17  18  1977  1.723490e+11\n",
      "18  19  1978  1.483820e+11\n",
      "19  20  1979  1.768570e+11\n",
      "20  21  1979  1.768570e+11\n",
      "21  22  1980  1.896500e+11\n",
      "22  23  1981  1.943690e+11\n",
      "23  24  1982  2.035500e+11\n",
      "24  25  1983  2.289500e+11\n",
      "25  26  1984  2.580820e+11\n",
      "26  27  1985  3.074800e+11\n",
      "27  28  1986  2.988060e+11\n",
      "28  29  1987  2.713500e+11\n",
      "29  30  1988  3.107220e+11\n",
      "30  31  1989  3.459570e+11\n",
      "31  32  1990  3.589730e+11\n",
      "32  33  1991  3.814550e+11\n",
      "33  34  1992  4.249340e+11\n",
      "34  35  1993  4.428750e+11\n",
      "35  36  1994  5.622610e+11\n",
      "36  37  1995  7.320320e+11\n",
      "37  38  1996  8.608440e+11\n",
      "38  39  1997  9.581590e+11\n",
      "39  40  1998  1.025280e+12\n",
      "40  41  1999  1.089450e+12\n",
      "41  42  1999  1.089450e+12\n",
      "42  43  2000  1.205260e+12\n",
      "43  44  2001  1.332230e+12\n",
      "44  45  2002  1.461910e+12\n",
      "45  46  2003  1.649930e+12\n",
      "46  47  2004  1.941750e+12\n",
      "47  48  2005  2.268600e+12\n",
      "48  49  2006  2.729780e+12\n",
      "49  50  2007  3.523090e+12\n",
      "50  51  2008  4.558430e+12\n",
      "51  52  2009  5.059420e+12\n",
      "52  53  2010  6.039660e+12\n",
      "53  54  2011  7.492430e+12\n",
      "54  55  2012  8.461620e+12\n",
      "55  56  2013  9.490600e+12\n",
      "56  57  2014  1.035480e+13\n"
     ]
    }
   ],
   "source": [
    "# 请输入代码：\n",
    "import numpy as np\n",
    "import pandas\n",
    "my_data = pandas.read_csv(\"china_gdp.csv\", delimiter=\",\")\n",
    "print(my_data)\n"
   ]
  },
  {
   "cell_type": "markdown",
   "metadata": {},
   "source": [
    "<div class=\"alert alert-success alertsuccess\" style=\"margin-top: 10px\">\n",
    "☞ 轮到你了：\n",
    "</div>"
   ]
  },
  {
   "cell_type": "code",
   "execution_count": 43,
   "metadata": {
    "ExecuteTime": {
     "end_time": "2021-04-24T05:15:27.905820Z",
     "start_time": "2021-04-24T05:15:27.770107Z"
    }
   },
   "outputs": [
    {
     "data": {
      "text/plain": [
       "[<matplotlib.lines.Line2D at 0x2a75ed6ee10>]"
      ]
     },
     "execution_count": 43,
     "metadata": {},
     "output_type": "execute_result"
    },
    {
     "data": {
      "image/png": "[encoded data removed]",
      "text/plain": [
       "<Figure size 432x288 with 1 Axes>"
      ]
     },
     "metadata": {
      "needs_background": "light"
     },
     "output_type": "display_data"
    }
   ],
   "source": [
    "#请输入代码\n",
    "from sklearn.datasets import load_diabetes \n",
    "from sklearn.linear_model import LinearRegression \n",
    "import matplotlib.pyplot as plt \n",
    "from sklearn.model_selection import train_test_split \n",
    "%matplotlib inline\n",
    "LinReg = LinearRegression()\n",
    "\n",
    "X=np.array(my_data.Year.values.reshape(-1,1))\n",
    "y=np.array(my_data.Value.values.reshape(-1,1))\n",
    "\n",
    "X_trainset, X_testset, y_trainset, y_testset = train_test_split(X, y, test_size=0.3, random_state=7)\n",
    "LinReg.fit(X_trainset, y_trainset)\n",
    "plt.scatter(X_testset, y_testset, color='black')\n",
    "plt.plot(X_testset, LinReg.predict(X_testset), color='green', linewidth=3)\n"
   ]
  },
  {
   "cell_type": "markdown",
   "metadata": {},
   "source": [
    "<div align=\"right\"class=\"answer-box-power\">\n",
    "<a href=\"#q1\" class=\"btn btn-default\" data-toggle=\"collapse\">获取答案</a>\n",
    "</div>\n",
    "<div id=\"q1\" class=\"collapse\">\n",
    "    \n",
    "代码：\n",
    "\n",
    "``` Python\n",
    "from sklearn.datasets import load_diabetes \n",
    "from sklearn.linear_model import LinearRegression \n",
    "import matplotlib.pyplot as plt \n",
    "from sklearn.model_selection import train_test_split \n",
    "%matplotlib inline\n",
    "LinReg = LinearRegression()\n",
    "X = my_data.iloc[:, :-1].values  #  矩阵\n",
    "y = my_data.iloc[:, 1].values  # 向量\n",
    "X_trainset, X_testset, y_trainset, y_testset = train_test_split(X, y, test_size=0.3, random_state=7)\n",
    "LinReg.fit(X_trainset, y_trainset)\n",
    "plt.scatter(X_testset, y_testset, color='black')\n",
    "plt.plot(X_testset, LinReg.predict(X_testset), color='green', linewidth=3)\n",
    "```\n",
    "</div>"
   ]
  },
  {
   "cell_type": "markdown",
   "metadata": {},
   "source": [
    "**感谢您完成本次实验！**\n",
    "\n",
    "这是**线性模型**实验的结尾。希望现在您对线性回归及其结构和流程的工作有了更深入的了解。感谢您阅读本次实验，祝您学习愉快。"
   ]
  },
  {
   "cell_type": "markdown",
   "metadata": {},
   "source": [
    "## 5.实验总结\n",
    "\n",
    "通过对公开数据集进行线性回归和岭回归，并通过多次调参，发现其得分都为0.36左右，即线性模型在线性问题上有较好的鲁棒性，但难以解决其它非线性问题。\n",
    "\n",
    "通过对私有数据集china_gdp.csv的测试，对结果进行作图，图中离散点为数据集，直线为训练结果，可以发现，一元线性模型在高阶的问题上的实现效果较差，通过多次调整参数也很难取得较好的结果。"
   ]
  },
  {
   "cell_type": "markdown",
   "metadata": {},
   "source": [
    "<hr>\n",
    "\n",
    "\n",
    "[<img src = \"https://dolphin-public.oss-cn-shanghai.aliyuncs.com/img/copyright.png\">](http://www.dolphin-labs.com)"
   ]
  }
 ],
 "metadata": {
  "kernelspec": {
   "display_name": "Python 3",
   "language": "python",
   "name": "python3"
  },
  "language_info": {
   "codemirror_mode": {
    "name": "ipython",
    "version": 3
   },
   "file_extension": ".py",
   "mimetype": "text/x-python",
   "name": "python",
   "nbconvert_exporter": "python",
   "pygments_lexer": "ipython3",
   "version": "3.6.7"
  },
  "nbTranslate": {
   "displayLangs": [
    "*"
   ],
   "hotkey": "alt-t",
   "langInMainMenu": true,
   "sourceLang": "en",
   "targetLang": "fr",
   "useGoogleTranslate": true
  },
  "toc": {
   "base_numbering": 1,
   "nav_menu": {},
   "number_sections": false,
   "sideBar": true,
   "skip_h1_title": false,
   "title_cell": "Table of Contents",
   "title_sidebar": "Contents",
   "toc_cell": false,
   "toc_position": {
    "height": "calc(100% - 180px)",
    "left": "10px",
    "top": "150px",
    "width": "312.35px"
   },
   "toc_section_display": true,
   "toc_window_display": true
  }
 },
 "nbformat": 4,
 "nbformat_minor": 2
}
