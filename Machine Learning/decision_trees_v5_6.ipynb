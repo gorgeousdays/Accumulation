{
 "cells": [
  {
   "cell_type": "markdown",
   "metadata": {},
   "source": [
    "<center><div><img src = \"http://china-bigdatauniversity.oss-cn-qingdao.aliyuncs.com/dolphin-labs/notebook-header-logo.png\", width = 230/></div></center>"
   ]
  },
  {
   "cell_type": "markdown",
   "metadata": {},
   "source": [
    "<center><h1 align=center><font size = 5>决策树算法(Decision Tree)</font></h1> \n",
    "\n",
    "<h2 align=center><font size = 2>【课程性质：机器学习算法-基础】</font></h2></center>"
   ]
  },
  {
   "cell_type": "markdown",
   "metadata": {},
   "source": [
    "# 1. 实验目标\n",
    "\n",
    "学习决策树的CART算法\n",
    "\n",
    "# 2. 实验主要使用的 $Python$ 库\n",
    "\n",
    "|名称|版本|简介|\n",
    "|----|----|----|\n",
    "|$Pandas$|$0.25.0$|数据分析|\n",
    "|$SkLearn$|$0.22.1$|科学计算|\n",
    "\n",
    "\n",
    "# 3. 实验适用的对象\n",
    "\n",
    "- 本课程假设您已经学习了 $Python$ 基础，具备数据可视化基础\n",
    "- 学习对象：本科学生、研究生、人工智能、算法相关研究者、开发者\n",
    "- 大数据分析与人工智能"
   ]
  },
  {
   "cell_type": "markdown",
   "metadata": {},
   "source": [
    "<div class=\"alert alert-success alertsuccess\" style=\"margin-top: 5px\">\n",
    "\n",
    "<center>理论学习部分</center>\n",
    "</div>"
   ]
  },
  {
   "cell_type": "markdown",
   "metadata": {},
   "source": [
    "<p><b>机器学习(Machine Learning, ML)是人工智能(AI)的一个子集，是使计算机具有智能的根本途径。</b></p>\n",
    "在本实验中，您将学习决策树(decision tree)的基本思想、算法以及如何用Python实现。 "
   ]
  },
  {
   "cell_type": "markdown",
   "metadata": {},
   "source": [
    "<font size=5>**概述**</font>\n",
    "<p>决策树(decision tree)是功能强大而且相当受欢迎的分类和预测方法，它是一种有监督的学习算法，以树状图为基础，其输出结果为一系列简单实用的规则，故得名决策树。决策树就是一系列的if-then语句，决策树可以用于分类问题，也可以用于回归问题。本文主要讨论分类决策树。</p>\n",
    "<p>决策树模型基于特征对实例进行分类，它是一个树状结构。决策树的优点是可读性强，分类速度快。学习决策树时，通常采用损失函数最小化原则建立决策树模型。预测时，对新的数据，利用决策树模型进行分类。决策树学习通常包括3个步骤：特征选择、决策树的生成和决策树的修剪。</p>\n",
    "<p></p>"
   ]
  },
  {
   "cell_type": "markdown",
   "metadata": {},
   "source": [
    "<font size=5>**算法**</font>\n",
    "<p>在本文中，训练集用$D$表示，$T$表示一棵决策树</p>\n",
    "假设，给定训练集$D=\\left\\{(x_1,y_1),(x_2,y_2),\\cdots,(x_N,y_N)\\right\\}$，其中$x_i=(x_i^{(1)},x_i^{(2)},\\cdots,x_i^{(n)})$为输入实例，$n$为特征个数；$y_i\\in \\left\\{1,2,\\cdots,K\\right\\}$为类标记，$i=1,2,\\cdots,N$；$N$为样本容量"
   ]
  },
  {
   "cell_type": "markdown",
   "metadata": {},
   "source": [
    "<font size=3>**基尼指数**</font>\n",
    "<br><br>\n",
    "假设有$K$个分类，样本点属于第$k$类的概率为$p_k=P(Y=c_k)$。则概率分布的基尼指数定义为\n",
    "$$Gini(p)=\\sum_{k=1}^Kp_k(1-p_k)=1-\\sum_{k=1}^Kp_k^2$$\n",
    "对于二分类的问题，若样本点属于第一个类的概率是$p$，则概率分布的基尼指数为\n",
    "$$Gini(p)=2p(1-p)$$\n",
    "对于给定的样本集合$D$，其基尼指数为\n",
    "$$Ginin(D)=1-\\sum_{k=1}^K(\\frac{|C_k|}{|D|})^2$$\n",
    "这里，$C_k$是$D$中属于第$k$类的样本子集，$K$是类的个数\n",
    "<p>如果样本集合$D$根据特征$A$是否取某一可能值$a$被分割成$D_1,D_2$两部分，即</p>\n",
    "$$D_1=\\left\\{(x,y)\\in{D}|A(x)=a\\right\\}, D_2=D-D_1$$\n",
    "则在特征$A$的条件下，集合$D$的基尼指数定义为\n",
    "$$Gini(D,A)=\\frac{|D_1|}{|D|}Gini(D_1)+\\frac{|D_2|}{|D|}Gini(D_2)$$\n",
    "<p>基尼指数$Gini(D)$表示集合$D$的不确定性，基尼指数$Gini(D,A)$表示经$A=a$分割后集合$D$的不确定性。基尼指数值越大，样本集合的不确定性也就越大。</p>"
   ]
  },
  {
   "cell_type": "markdown",
   "metadata": {},
   "source": [
    "<font size=3>**CART生成算法**</font>\n",
    "<br><br>\n",
    "<p>输入：训练数据集$D$，停止计算的条件；</p>\n",
    "<p>输出：CART决策树</p>\n",
    "<br>\n",
    "根据训练数据集，从根节点开始，递归敌对每个结点进行以下的操作，构建二叉决策树：\n",
    "<p>（1）设结点的训练数据集为$D$，计算现有特征对该数据集的基尼指数。此时，对每个特征$A$，对其可能去的每个值$a$，根据样本点对$A=a$测试为“是”或“否”将$D$分割成$D_1,D_2$两部分,利用$Gini(D,A)=\\frac{|D_1|}{|D|}Gini(D_1)+\\frac{|D_2|}{|D|}Gini(D_2)$计算$A=a$时的基尼指数。</p>\n",
    "<p>（2）在所有可能的特征$A$以及它们所有可能的切分点$a$中，选择<b>基尼指数最小</b>的特征及其对应的切分点作为最优特征与最优切分点。依最优特征与最优切分点，从现结点生成两个子节点，将训练数据集依特征分配到两个子结点中去。</p>\n",
    "<p>（3）对两个子结点递归地调用（1），（2），直到满足停止条件。</p>\n",
    "<p>（4）生成CART决策树<p>"
   ]
  },
  {
   "cell_type": "markdown",
   "metadata": {},
   "source": [
    "<b><p>CART剪枝算法</p></b>\n",
    "<p>输入：CART算法生成的决策数$T_0$；</p>\n",
    "<p>输出：最优决策树$T_\\alpha$</p>\n",
    "<br>\n",
    "<p>（1）设$k=0,T=T_0$</p>\n",
    "<p>（2）设$\\alpha=+\\infty$</p>\n",
    "<p>（3）自下而上地对个内部结点$t$计算$C(T_t)$，$|T_t|$以及</p>\n",
    "$$g(t)=\\frac{C(t)-C(T_t)}{|T_t|-1}$$\n",
    "$$\\alpha=min(\\alpha,g(t))$$\n",
    "这里，$T_t$表示以$t$为根结点的子树，$C(T_t)$是对训练数据的预测误差，$|T_t|$是$T_t$的叶节点个数，$g(t)$表示剪枝后整体损失函数减少的程度\n",
    "<p>（4）对$g(t)=\\alpha$的内部结点$t$进行剪枝，并对叶结点$t$以多数表决法觉定其类，得到树$T$</p>\n",
    "<p>（5）设$k=k+1,\\alpha_k=\\alpha,T_k=T$</p>\n",
    "<p>（6）如果$T_k$不是由根结点及两个叶结点构成的树，则回到步骤（2）；否则令$T_k=T_n$</p>\n",
    "<p>（7）采用交叉验证法在子树序列$T_0,T_1,\\cdots,T_n$中选取最优子树$T_\\alpha$</p>\n"
   ]
  },
  {
   "cell_type": "markdown",
   "metadata": {},
   "source": [
    "<div class=\"alert alert-success alertsuccess\" style=\"margin-top: 10px\">\n",
    "<a id=\"ref2\"></a>\n",
    "<center>实践学习部分</center>\n",
    "</div>"
   ]
  },
  {
   "cell_type": "markdown",
   "metadata": {},
   "source": [
    "## 4. 实验步骤"
   ]
  },
  {
   "cell_type": "markdown",
   "metadata": {},
   "source": [
    "### 步骤1 安装并引入必要的库"
   ]
  },
  {
   "cell_type": "markdown",
   "metadata": {},
   "source": [
    "<div class=\"alert alert-success alertsuccess\" style=\"margin-top: 10px\">\n",
    "代码示例：\n",
    "</div>"
   ]
  },
  {
   "cell_type": "markdown",
   "metadata": {},
   "source": [
    "```python \n",
    "!pip install numpy==1.16.0\n",
    "!pip install pandas==0.25.0\n",
    "!pip install scikit-learn==0.22.1\n",
    "```"
   ]
  },
  {
   "cell_type": "markdown",
   "metadata": {},
   "source": [
    "<div class=\"alert alert-success alertsuccess\" style=\"margin-top: 10px\">\n",
    "☞ 轮到你了：\n",
    "</div>"
   ]
  },
  {
   "cell_type": "code",
   "execution_count": null,
   "metadata": {},
   "outputs": [],
   "source": [
    "# 请在这里填写您的代码\n",
    "\n"
   ]
  },
  {
   "cell_type": "markdown",
   "metadata": {},
   "source": [
    "<div class=\"alert alert-success alertsuccess\" style=\"margin-top: 10px\">\n",
    "代码示例：\n",
    "</div>"
   ]
  },
  {
   "cell_type": "markdown",
   "metadata": {},
   "source": [
    "```python \n",
    "import numpy as np \n",
    "import pandas \n",
    "from sklearn.tree import DecisionTreeClassifier\n",
    "from sklearn.model_selection import train_test_split \n",
    "from sklearn import metrics\n",
    "```"
   ]
  },
  {
   "cell_type": "markdown",
   "metadata": {},
   "source": [
    "<div class=\"alert alert-success alertsuccess\" style=\"margin-top: 10px\">\n",
    "☞ 轮到你了：\n",
    "</div>"
   ]
  },
  {
   "cell_type": "code",
   "execution_count": 1,
   "metadata": {
    "ExecuteTime": {
     "end_time": "2021-04-29T12:33:31.484238Z",
     "start_time": "2021-04-29T12:33:31.113338Z"
    }
   },
   "outputs": [
    {
     "name": "stderr",
     "output_type": "stream",
     "text": [
      "c:\\users\\hp\\appdata\\local\\programs\\python\\python36\\lib\\importlib\\_bootstrap.py:219: RuntimeWarning: numpy.ufunc size changed, may indicate binary incompatibility. Expected 192 from C header, got 216 from PyObject\n",
      "  return f(*args, **kwds)\n",
      "c:\\users\\hp\\appdata\\local\\programs\\python\\python36\\lib\\importlib\\_bootstrap.py:219: RuntimeWarning: numpy.ufunc size changed, may indicate binary incompatibility. Expected 192 from C header, got 216 from PyObject\n",
      "  return f(*args, **kwds)\n",
      "c:\\users\\hp\\appdata\\local\\programs\\python\\python36\\lib\\importlib\\_bootstrap.py:219: RuntimeWarning: numpy.ufunc size changed, may indicate binary incompatibility. Expected 192 from C header, got 216 from PyObject\n",
      "  return f(*args, **kwds)\n",
      "c:\\users\\hp\\appdata\\local\\programs\\python\\python36\\lib\\importlib\\_bootstrap.py:219: RuntimeWarning: numpy.ufunc size changed, may indicate binary incompatibility. Expected 192 from C header, got 216 from PyObject\n",
      "  return f(*args, **kwds)\n"
     ]
    }
   ],
   "source": [
    "# 请在这里填写您的代码\n",
    "\n",
    "import numpy as np \n",
    "import pandas \n",
    "from sklearn.tree import DecisionTreeClassifier\n",
    "from sklearn.model_selection import train_test_split \n",
    "from sklearn import metrics"
   ]
  },
  {
   "cell_type": "markdown",
   "metadata": {},
   "source": [
    "### 步骤2 数据处理"
   ]
  },
  {
   "cell_type": "markdown",
   "metadata": {},
   "source": [
    "<p>读取“skulls.csv”数据集，并将其存储至名为<b>my_data</b>的变量下</p>"
   ]
  },
  {
   "cell_type": "markdown",
   "metadata": {},
   "source": [
    "<div class=\"alert alert-success alertsuccess\" style=\"margin-top: 5px\">\n",
    "代码示例：\n",
    "</div>"
   ]
  },
  {
   "cell_type": "markdown",
   "metadata": {},
   "source": [
    "``` Python\n",
    "my_data = pandas.read_csv(\"./skulls.csv\", delimiter=\",\")\n",
    "```"
   ]
  },
  {
   "cell_type": "markdown",
   "metadata": {},
   "source": [
    "<div class=\"alert alert-success alertsuccess\" style=\"margin-top: 10px\">\n",
    "☞ 轮到你了：\n",
    "</div>"
   ]
  },
  {
   "cell_type": "code",
   "execution_count": 2,
   "metadata": {
    "ExecuteTime": {
     "end_time": "2021-04-29T12:33:43.285836Z",
     "start_time": "2021-04-29T12:33:43.271585Z"
    }
   },
   "outputs": [],
   "source": [
    "# 请在这里填写您的代码\n",
    "my_data = pandas.read_csv(\"./skulls.csv\", delimiter=\",\")\n"
   ]
  },
  {
   "cell_type": "markdown",
   "metadata": {},
   "source": [
    "声明下面的变量: <br>\n",
    "<ul>\n",
    "    <li> <b> X </b>是<b> 特征矩阵（Feature Matrix） </b> (my_data中的数据) </li>\n",
    "    <ul> <li>使用 <i> removeColumns </i>函数</li> </ul> <br>\n",
    "    <li> <b> y </b>是<b>响应向量(target) </b> </li>\n",
    "    <ul> <li>使用<i> targetAndtargetNames </i> 函数 </li> </ul> <br>\n",
    "    <li> <b> targetNames </b>作为<b>响应向量名称(target names)</b> </li>\n",
    "    <ul> <li> 使用<i> targetAndtargetNames </i> Function </li> </ul> <br>\n",
    "    <li> <b> featureNames </b> 是<b>特征矩阵列名称</b> </li>\n",
    "    <ul> <li>使用<i> getFeatureNames </i> Function </li> </ul>\n",
    "</ul>"
   ]
  },
  {
   "cell_type": "markdown",
   "metadata": {},
   "source": [
    "现在，我们有拟合模型所需的X\n",
    "\n",
    "接下来，我们需要得到响应向量y。 既然我们不能使用.target和.target_names，我们需要创建了一个函数来为我们做这件事。\n",
    "\n",
    "<b> targetAndtargetNames(numpyArray, targetColumnIndex) </b>\n",
    "\n",
    "这个需要两个输出，并返回两个输出\n",
    "<ul>\n",
    "    <li> <font size = 3.5><b><i>1输入</i></b></font>: 一个Dataframe</li>\n",
    "    <ul>\n",
    "        <li> 注意:这里不要使用 <b> new_data </b> 。 我们需要原始的没有标题 .csv 数据文件。 </li>\n",
    "    </ul>\n",
    "</ul>\n",
    "<ul>\n",
    "    <li> <font size = 3.5><b><i>2输入</i></b></font>: 表示目标列（target column）的整数值。 （再次查看数据并找到哪个列包含非数字值，这是目标列(target column))。</li>\n",
    "    <ul>\n",
    "        <li>注意：请记住，Python是从0开始索引，因此第一列将为0。 </li>\n",
    "   </ul>\n",
    "</ul>\n",
    "\n",
    "<ul>\n",
    "    <li> <font size = 3.5><b><i>1输出</i></b></font>: 响应值向量(target) </li>\n",
    "    <li> <font size = 3.5><b><i>2输出</i></b></font>: 目标名称 (target_names) </li>\n",
    "</ul>\n"
   ]
  },
  {
   "cell_type": "markdown",
   "metadata": {},
   "source": [
    "<div class=\"alert alert-success alertsuccess\" style=\"margin-top: 5px\">\n",
    "代码示例：\n",
    "</div>"
   ]
  },
  {
   "cell_type": "markdown",
   "metadata": {},
   "source": [
    "``` Python\n",
    "def targetAndtargetNames(Dataframe, targetColumnIndex):\n",
    "    target_dict = dict()\n",
    "    target = list()\n",
    "    target_names = list()\n",
    "    count = -1\n",
    "    for i in range(len(Dataframe.values)):\n",
    "        if Dataframe.values[i][targetColumnIndex] not in target_dict:\n",
    "            count += 1\n",
    "            target_dict[Dataframe.values[i][targetColumnIndex]] = count\n",
    "        target.append(target_dict[Dataframe.values[i][targetColumnIndex]]) \n",
    "    #由于字典没有排序，因此我们需要对它进行排序并将其输出到列表中，以便目标名称与目标匹配。\n",
    "    for targetName in sorted(target_dict, key=target_dict.get):\n",
    "        target_names.append(targetName)\n",
    "    return np.asarray(target), target_names\n",
    "```"
   ]
  },
  {
   "cell_type": "markdown",
   "metadata": {},
   "source": [
    "<div class=\"alert alert-success alertsuccess\" style=\"margin-top: 10px\">\n",
    "☞ 轮到你了：\n",
    "</div>"
   ]
  },
  {
   "cell_type": "code",
   "execution_count": 3,
   "metadata": {
    "ExecuteTime": {
     "end_time": "2021-04-29T12:33:50.904973Z",
     "start_time": "2021-04-29T12:33:50.894658Z"
    }
   },
   "outputs": [],
   "source": [
    "# 请在这里填写您的代码\n",
    "def targetAndtargetNames(Dataframe, targetColumnIndex):\n",
    "    target_dict = dict()\n",
    "    target = list()\n",
    "    target_names = list()\n",
    "    count = -1\n",
    "    for i in range(len(Dataframe.values)):\n",
    "        if Dataframe.values[i][targetColumnIndex] not in target_dict:\n",
    "            count += 1\n",
    "            target_dict[Dataframe.values[i][targetColumnIndex]] = count\n",
    "        target.append(target_dict[Dataframe.values[i][targetColumnIndex]]) \n",
    "    #由于字典没有排序，因此我们需要对它进行排序并将其输出到列表中，以便目标名称与目标匹配。\n",
    "    for targetName in sorted(target_dict, key=target_dict.get):\n",
    "        target_names.append(targetName)\n",
    "    return np.asarray(target), target_names\n"
   ]
  },
  {
   "cell_type": "markdown",
   "metadata": {},
   "source": [
    "定义一个函数:\n",
    "<b> removeColumns(DataFame, column) </b>\n",
    "\n",
    "该函数产生一个输出并需要两个输入。\n",
    "<ul>\n",
    "    <li> 1: DataFame(my_data) </li>\n",
    "    <li> 2: 我们想要移除的列的编号。（再次查看数据并找到哪个列包含非数字值）。我们还想删除第一列，因为它只包含行号，这与我们的分析无关。</li>\n",
    "    <ul>\n",
    "        <li> 注意：请记住，Python索引从零开始，因此第一列将为0。 </li>\n",
    "    </ul>\n",
    "</ul>"
   ]
  },
  {
   "cell_type": "markdown",
   "metadata": {},
   "source": [
    "<div class=\"alert alert-success alertsuccess\" style=\"margin-top: 5px\">\n",
    "代码示例：\n",
    "</div>"
   ]
  },
  {
   "cell_type": "markdown",
   "metadata": {},
   "source": [
    "``` Python\n",
    "# 删除包含目标名称的列，因为它不包含数值。\n",
    "# 也删除包含行号的列\n",
    "# axis = 1表示我们正在删除列而不是行。\n",
    "# Function takes in a pandas array and column numbers and returns a numpy array without\n",
    "#函数输入DataFrame和列号并返回一个没有指定列的numpy数组\n",
    "def removeColumns(DataFrame, *column):\n",
    "    return DataFrame.drop(DataFrame.columns[[column]], axis=1).values\n",
    "```"
   ]
  },
  {
   "cell_type": "markdown",
   "metadata": {},
   "source": [
    "<div class=\"alert alert-success alertsuccess\" style=\"margin-top: 10px\">\n",
    "☞ 轮到你了：\n",
    "</div>"
   ]
  },
  {
   "cell_type": "code",
   "execution_count": 4,
   "metadata": {
    "ExecuteTime": {
     "end_time": "2021-04-29T12:34:00.741430Z",
     "start_time": "2021-04-29T12:34:00.724170Z"
    }
   },
   "outputs": [],
   "source": [
    "# 请在这里填写您的代码\n",
    "def removeColumns(DataFrame, *column):\n",
    "    return DataFrame.drop(DataFrame.columns[[column]], axis=1).values\n"
   ]
  },
  {
   "cell_type": "markdown",
   "metadata": {},
   "source": [
    "<b> getFeatureNames </b>是获取特定列的属性名称的函数\n",
    "该函数产生一个输出并需要两个输入：\n",
    "<ul>\n",
    "    <li> <b>第一输入</b>： 一个DataFrame。我们正在使用的DataFrame是<b>my_data</b>. </li>\n",
    "    <li> <b>第二输入</b>：整数值（顺序无关紧要）代表我们想要包含的列。 在我们的例子中，我们需要<b>第2-5列</b>. </li>\n",
    "    <ul> <li> 注意: 请记住，Python从零开始索引，因此第一列将是0。 </li> </ul>"
   ]
  },
  {
   "cell_type": "markdown",
   "metadata": {},
   "source": [
    "<div class=\"alert alert-success alertsuccess\" style=\"margin-top: 5px\">\n",
    "代码示例：\n",
    "</div>"
   ]
  },
  {
   "cell_type": "markdown",
   "metadata": {},
   "source": [
    "``` Python\n",
    "def getFeatureNames(DataFrame, *column):\n",
    "    actualColumns = list()\n",
    "    allColumns = list(DataFrame.columns.values)\n",
    "    for i in sorted(column):\n",
    "        actualColumns.append(allColumns[i])\n",
    "    return actualColumns\n",
    "```"
   ]
  },
  {
   "cell_type": "markdown",
   "metadata": {},
   "source": [
    "<div class=\"alert alert-success alertsuccess\" style=\"margin-top: 10px\">\n",
    "☞ 轮到你了：\n",
    "</div>"
   ]
  },
  {
   "cell_type": "code",
   "execution_count": 5,
   "metadata": {
    "ExecuteTime": {
     "end_time": "2021-04-29T12:34:08.043052Z",
     "start_time": "2021-04-29T12:34:08.034378Z"
    }
   },
   "outputs": [],
   "source": [
    "# 请在这里填写您的代码\n",
    "def getFeatureNames(DataFrame, *column):\n",
    "    actualColumns = list()\n",
    "    allColumns = list(DataFrame.columns.values)\n",
    "    for i in sorted(column):\n",
    "        actualColumns.append(allColumns[i])\n",
    "    return actualColumns\n"
   ]
  },
  {
   "cell_type": "markdown",
   "metadata": {},
   "source": [
    "利用targetAndtargetNames、removeColumns、getFeatureNames函数定义本例所需的特征矩阵X 、响应向量y、响应向量名称、特征矩阵列名称 "
   ]
  },
  {
   "cell_type": "markdown",
   "metadata": {},
   "source": [
    "<div class=\"alert alert-success alertsuccess\" style=\"margin-top: 5px\">\n",
    "代码示例：\n",
    "</div>"
   ]
  },
  {
   "cell_type": "markdown",
   "metadata": {},
   "source": [
    "``` Python\n",
    "X = removeColumns(my_data, 0, 1) \n",
    "y, targetNames = targetAndtargetNames(my_data, 1) \n",
    "featureNames = getFeatureNames(my_data, 2,3,4,5)\n",
    "print('****** y ******')\n",
    "print (y)\n",
    "print('****** targetNames ******')\n",
    "print (targetNames) \n",
    "print('****** feeatureNames ******')\n",
    "print (featureNames) \n",
    "```"
   ]
  },
  {
   "cell_type": "markdown",
   "metadata": {},
   "source": [
    "<div class=\"alert alert-success alertsuccess\" style=\"margin-top: 10px\">\n",
    "☞ 轮到你了：\n",
    "</div>"
   ]
  },
  {
   "cell_type": "code",
   "execution_count": 6,
   "metadata": {
    "ExecuteTime": {
     "end_time": "2021-04-29T12:34:12.602643Z",
     "start_time": "2021-04-29T12:34:12.576752Z"
    }
   },
   "outputs": [
    {
     "name": "stdout",
     "output_type": "stream",
     "text": [
      "****** y ******\n",
      "[ 0  1  2  3  4  5  1  1  6  6  2  7  6  2  6  4  2  7  2  0  0  6  8  7\n",
      "  2  0  9  7  1  4 10  1  1 11  6 11 12  4  1  2 10 10  7  6  5  0  7 11\n",
      "  7  6  8  4  0  1 12  2  0  7  2 12  4  6  6 12  8  1  2 11  2  8  9 10\n",
      "  5  7  2  2  0  8  9  2 13  6  7  7 12  2  6 11  0 12  4  0  9 10  4  7\n",
      "  0  6 10  2 13  1  6 12 12  7  4  2 12  9 12  9  8  4  1  7  2  7  7  6\n",
      "  4  7  9 12  6  6  2  0 14 12  8 12 15 11  9  4  6  4  5  7 12  8  6  4\n",
      "  2  8  8 10  3  4  9 12 14 12  1  1  6]\n",
      "****** targetNames ******\n",
      "[49, 48, 50, 44, 54, 56, 51, 53, 47, 55, 46, 45, 52, 60, 57, 58]\n",
      "****** feeatureNames ******\n",
      "['mb', 'bh', 'bl', 'nh']\n"
     ]
    },
    {
     "name": "stderr",
     "output_type": "stream",
     "text": [
      "c:\\users\\hp\\appdata\\local\\programs\\python\\python36\\lib\\site-packages\\pandas\\core\\indexes\\base.py:3941: FutureWarning: Using a non-tuple sequence for multidimensional indexing is deprecated; use `arr[tuple(seq)]` instead of `arr[seq]`. In the future this will be interpreted as an array index, `arr[np.array(seq)]`, which will result either in an error or a different result.\n",
      "  result = getitem(key)\n"
     ]
    }
   ],
   "source": [
    "# 请在这里填写您的代码\n",
    "X = removeColumns(my_data, 0, 1) \n",
    "y, targetNames = targetAndtargetNames(my_data, 1) \n",
    "featureNames = getFeatureNames(my_data, 2,3,4,5)\n",
    "print('****** y ******')\n",
    "print (y)\n",
    "print('****** targetNames ******')\n",
    "print (targetNames) \n",
    "print('****** feeatureNames ******')\n",
    "print (featureNames) \n"
   ]
  },
  {
   "cell_type": "markdown",
   "metadata": {},
   "source": [
    "### 步骤3 拟合预测\n",
    "首先我们将使用训练/测试集分割。 我们从sklearn.cross_validation导入train_test_split。"
   ]
  },
  {
   "cell_type": "markdown",
   "metadata": {},
   "source": [
    "现在train_test_split将返回4个不同的参数。<br>\n",
    "**X_trainset，X_testset，y_trainset，y_testset**<br>\n",
    "\n",
    "**train_test_split**将需要参数：<br>\n",
    "**X**，**y**，**test_size = 0.3**，**random_state = 3**。<br>\n",
    "\n",
    "X和y是拆分前所需的数组，test_size表示测试数据集的比率，而random_state确保我们获得相同的拆分。"
   ]
  },
  {
   "cell_type": "markdown",
   "metadata": {},
   "source": [
    "<div class=\"alert alert-success alertsuccess\" style=\"margin-top: 5px\">\n",
    "代码示例：\n",
    "</div>"
   ]
  },
  {
   "cell_type": "markdown",
   "metadata": {},
   "source": [
    "``` Python\n",
    "X_trainset, X_testset, y_trainset, y_testset = train_test_split(X, y, test_size=0.3, random_state=3) \n",
    "```"
   ]
  },
  {
   "cell_type": "markdown",
   "metadata": {},
   "source": [
    "<div class=\"alert alert-success alertsuccess\" style=\"margin-top: 10px\">\n",
    "☞ 轮到你了：\n",
    "</div>"
   ]
  },
  {
   "cell_type": "code",
   "execution_count": 7,
   "metadata": {
    "ExecuteTime": {
     "end_time": "2021-04-29T12:34:22.973097Z",
     "start_time": "2021-04-29T12:34:22.968009Z"
    }
   },
   "outputs": [],
   "source": [
    "# 请在这里填写您的代码\n",
    "X_trainset, X_testset, y_trainset, y_testset = train_test_split(X, y, test_size=0.3, random_state=3) \n"
   ]
  },
  {
   "cell_type": "markdown",
   "metadata": {},
   "source": [
    "- 打印X_trainset和y_trainset的形状。 确保X_trainset和y_trainset维度相匹配\n",
    "- 打印X_testset和y_testset的形状。 确保X_testset和y_testset维度相匹配"
   ]
  },
  {
   "cell_type": "markdown",
   "metadata": {},
   "source": [
    "<div class=\"alert alert-success alertsuccess\" style=\"margin-top: 5px\">\n",
    "代码示例：\n",
    "</div>"
   ]
  },
  {
   "cell_type": "markdown",
   "metadata": {},
   "source": [
    "``` Python\n",
    "print (X_trainset.shape)\n",
    "print (y_trainset.shape) \n",
    "print('-------')\n",
    "print (X_testset.shape) \n",
    "print (y_testset.shape)\n",
    "```"
   ]
  },
  {
   "cell_type": "markdown",
   "metadata": {},
   "source": [
    "<div class=\"alert alert-success alertsuccess\" style=\"margin-top: 10px\">\n",
    "☞ 轮到你了：\n",
    "</div>"
   ]
  },
  {
   "cell_type": "code",
   "execution_count": 8,
   "metadata": {
    "ExecuteTime": {
     "end_time": "2021-04-29T12:34:27.546627Z",
     "start_time": "2021-04-29T12:34:27.538012Z"
    }
   },
   "outputs": [
    {
     "name": "stdout",
     "output_type": "stream",
     "text": [
      "(109, 4)\n",
      "(109,)\n",
      "-------\n",
      "(48, 4)\n",
      "(48,)\n"
     ]
    }
   ],
   "source": [
    "# 请在这里填写您的代码\n",
    "\n",
    "print (X_trainset.shape)\n",
    "print (y_trainset.shape) \n",
    "print('-------')\n",
    "print (X_testset.shape) \n",
    "print (y_testset.shape)"
   ]
  },
  {
   "cell_type": "markdown",
   "metadata": {},
   "source": [
    "我们将首先创建一个名为skullsTree的DecisionTreeClassifier实例。<br>\n",
    "在分类器内部，指定<i> criterion=\"entropy\" </i> ，以便我们可以看到每个节点的信息增益。"
   ]
  },
  {
   "cell_type": "markdown",
   "metadata": {},
   "source": [
    "<div class=\"alert alert-success alertsuccess\" style=\"margin-top: 5px\">\n",
    "代码示例：\n",
    "</div>"
   ]
  },
  {
   "cell_type": "markdown",
   "metadata": {},
   "source": [
    "``` Python\n",
    "skullsTree = DecisionTreeClassifier(criterion=\"gini\") \n",
    "``` "
   ]
  },
  {
   "cell_type": "markdown",
   "metadata": {},
   "source": [
    "<div class=\"alert alert-success alertsuccess\" style=\"margin-top: 10px\">\n",
    "☞ 轮到你了：\n",
    "</div>"
   ]
  },
  {
   "cell_type": "code",
   "execution_count": 9,
   "metadata": {
    "ExecuteTime": {
     "end_time": "2021-04-29T12:34:32.368408Z",
     "start_time": "2021-04-29T12:34:32.358080Z"
    }
   },
   "outputs": [],
   "source": [
    "# 请在这里填写您的代码\n",
    "skullsTree = DecisionTreeClassifier(criterion=\"gini\") \n"
   ]
  },
  {
   "cell_type": "markdown",
   "metadata": {},
   "source": [
    "接下来，我们将用训练特征矩阵X_trainset和训练响向量y_trainset来拟合数据"
   ]
  },
  {
   "cell_type": "markdown",
   "metadata": {},
   "source": [
    "<div class=\"alert alert-success alertsuccess\" style=\"margin-top: 5px\">\n",
    "代码示例：\n",
    "</div>"
   ]
  },
  {
   "cell_type": "markdown",
   "metadata": {},
   "source": [
    "``` Python\n",
    "skullsTree.fit(X_trainset,y_trainset) \n",
    "```"
   ]
  },
  {
   "cell_type": "markdown",
   "metadata": {},
   "source": [
    "<div class=\"alert alert-success alertsuccess\" style=\"margin-top: 10px\">\n",
    "☞ 轮到你了：\n",
    "</div>"
   ]
  },
  {
   "cell_type": "code",
   "execution_count": 10,
   "metadata": {
    "ExecuteTime": {
     "end_time": "2021-04-29T12:34:36.472594Z",
     "start_time": "2021-04-29T12:34:36.450773Z"
    }
   },
   "outputs": [
    {
     "data": {
      "text/plain": [
       "DecisionTreeClassifier()"
      ]
     },
     "execution_count": 10,
     "metadata": {},
     "output_type": "execute_result"
    }
   ],
   "source": [
    "# 请在这里填写您的代码\n",
    "skullsTree.fit(X_trainset,y_trainset) \n"
   ]
  },
  {
   "cell_type": "markdown",
   "metadata": {},
   "source": [
    "让我们对测试数据集进行一些**预测**，并将其存储到名为**predTree**的变量中。"
   ]
  },
  {
   "cell_type": "markdown",
   "metadata": {},
   "source": [
    "<div class=\"alert alert-success alertsuccess\" style=\"margin-top: 5px\">\n",
    "代码示例：\n",
    "</div>"
   ]
  },
  {
   "cell_type": "markdown",
   "metadata": {},
   "source": [
    "``` Python\n",
    "predTree = skullsTree.predict(X_testset) \n",
    "```"
   ]
  },
  {
   "cell_type": "markdown",
   "metadata": {},
   "source": [
    "<div class=\"alert alert-success alertsuccess\" style=\"margin-top: 10px\">\n",
    "☞ 轮到你了：\n",
    "</div>"
   ]
  },
  {
   "cell_type": "code",
   "execution_count": 11,
   "metadata": {
    "ExecuteTime": {
     "end_time": "2021-04-29T12:34:41.203977Z",
     "start_time": "2021-04-29T12:34:41.198379Z"
    }
   },
   "outputs": [],
   "source": [
    "# 请在这里填写您的代码\n",
    "predTree = skullsTree.predict(X_testset) \n"
   ]
  },
  {
   "cell_type": "markdown",
   "metadata": {},
   "source": [
    "接下来，让我们从sklearn中导入指标并检查模型的预测精度。"
   ]
  },
  {
   "cell_type": "markdown",
   "metadata": {},
   "source": [
    "<div class=\"alert alert-success alertsuccess\" style=\"margin-top: 5px\">\n",
    "代码示例：\n",
    "</div>"
   ]
  },
  {
   "cell_type": "markdown",
   "metadata": {},
   "source": [
    "``` Python\n",
    "print((\"DecisionTrees's Accuracy: %.2f\") % metrics.accuracy_score(y_testset, predTree))\n",
    "```"
   ]
  },
  {
   "cell_type": "markdown",
   "metadata": {},
   "source": [
    "<div class=\"alert alert-success alertsuccess\" style=\"margin-top: 10px\">\n",
    "☞ 轮到你了：\n",
    "</div>"
   ]
  },
  {
   "cell_type": "code",
   "execution_count": 12,
   "metadata": {
    "ExecuteTime": {
     "end_time": "2021-04-29T12:34:45.733774Z",
     "start_time": "2021-04-29T12:34:45.728775Z"
    }
   },
   "outputs": [
    {
     "name": "stdout",
     "output_type": "stream",
     "text": [
      "DecisionTrees's Accuracy: 0.98\n"
     ]
    }
   ],
   "source": [
    "# 请在这里填写您的代码\n",
    "\n",
    "print((\"DecisionTrees's Accuracy: %.2f\") % metrics.accuracy_score(y_testset, predTree))"
   ]
  },
  {
   "cell_type": "markdown",
   "metadata": {},
   "source": [
    "---"
   ]
  },
  {
   "cell_type": "markdown",
   "metadata": {},
   "source": [
    "<div class=\"alert alert-danger alertdanger\" style=\"margin-top: 20px\">\n",
    "<h4> 练习1 </h4>\n",
    "<b>从sklean.datasets导入iris（鸢尾花）数据集，利用决策树对生物物种进行分类，评价模型性能。</b>\n",
    "</div>"
   ]
  },
  {
   "cell_type": "markdown",
   "metadata": {},
   "source": [
    "<div class=\"alert alert-success alertsuccess\" style=\"margin-top: 10px\">\n",
    "☞ 轮到你了：\n",
    "</div>"
   ]
  },
  {
   "cell_type": "code",
   "execution_count": 13,
   "metadata": {
    "ExecuteTime": {
     "end_time": "2021-04-29T12:34:58.662005Z",
     "start_time": "2021-04-29T12:34:58.593851Z"
    }
   },
   "outputs": [
    {
     "name": "stdout",
     "output_type": "stream",
     "text": [
      "Tree's Accuracy: 0.91\n"
     ]
    },
    {
     "name": "stderr",
     "output_type": "stream",
     "text": [
      "c:\\users\\hp\\appdata\\local\\programs\\python\\python36\\lib\\importlib\\_bootstrap.py:219: RuntimeWarning: numpy.ufunc size changed, may indicate binary incompatibility. Expected 192 from C header, got 216 from PyObject\n",
      "  return f(*args, **kwds)\n"
     ]
    }
   ],
   "source": [
    "# 请在这里填写您的代码\n",
    "from sklearn.datasets import load_iris\n",
    "iris=load_iris()\n",
    "from sklearn.model_selection import train_test_split \n",
    "X_trainset, X_testset, y_trainset, y_testset = train_test_split(iris.data, iris.target, test_size=0.3, random_state=7)\n",
    "from sklearn.preprocessing import StandardScaler###数据标准化\n",
    "nor=StandardScaler()\n",
    "X_trainset=nor.fit_transform(X_trainset)\n",
    "X_testset=nor.fit_transform(X_testset)\n",
    "#开始决策树\n",
    "from sklearn.tree import DecisionTreeClassifier\n",
    "Tree = DecisionTreeClassifier(criterion=\"gini\") \n",
    "Tree.fit(X_trainset,y_trainset) \n",
    "y_predict=Tree.predict(X_testset)\n",
    "from sklearn import metrics\n",
    "print(\"Tree's Accuracy: %.2f\" % metrics.accuracy_score(y_testset,y_predict))\n"
   ]
  },
  {
   "cell_type": "markdown",
   "metadata": {},
   "source": [
    "<div align=\"right\"class=\"answer-box-power\">\n",
    "<a href=\"#q2\" class=\"btn btn-default\" data-toggle=\"collapse\">获取答案</a>\n",
    "</div>\n",
    "<div id=\"q2\" class=\"collapse\">\n",
    "代码：\n",
    "\n",
    "``` Python\n",
    "from sklearn.datasets import load_iris\n",
    "iris=load_iris()\n",
    "from sklearn.model_selection import train_test_split \n",
    "X_trainset, X_testset, y_trainset, y_testset = train_test_split(iris.data, iris.target, test_size=0.3, random_state=7)\n",
    "from sklearn.preprocessing import StandardScaler###数据标准化\n",
    "nor=StandardScaler()\n",
    "X_trainset=nor.fit_transform(X_trainset)\n",
    "X_testset=nor.fit_transform(X_testset)\n",
    "#开始决策树\n",
    "from sklearn.tree import DecisionTreeClassifier\n",
    "Tree = DecisionTreeClassifier(criterion=\"gini\") \n",
    "Tree.fit(X_trainset,y_trainset) \n",
    "y_predict=Tree.predict(X_testset)\n",
    "from sklearn import metrics\n",
    "print(\"Tree's Accuracy: %.2f\" % metrics.accuracy_score(y_testset,y_predict))\n",
    "\n",
    "```\n",
    "\n",
    "答案： \n",
    "Tree's Accuracy: 0.91\n",
    "</div>"
   ]
  },
  {
   "cell_type": "markdown",
   "metadata": {},
   "source": [
    "**感谢您完成本次实验！**\n",
    "\n",
    "这是**决策树算法**实验的结尾。希望现在您对决策树算法的内容和流程的工作有了更深入的了解。感谢您阅读本次实验，祝您学习愉快。"
   ]
  },
  {
   "cell_type": "markdown",
   "metadata": {},
   "source": [
    "# 4.实验总结\n",
    "\n",
    "决策树：是一种监督学习(Supervised Learning)方法，通过不断对某个属性进行判断得到一个分支最终形成决策树，这个决策树能够对新的数据进行正确的分类。\n",
    "代表算法：ID3，C4.5\n",
    "损失函数：正则化的极大似然函数\n",
    "\n",
    "通过本次实验，发现决策树的聚类效果较好，在应对当前数据集的情况下达到了91%的正确率。"
   ]
  },
  {
   "cell_type": "markdown",
   "metadata": {},
   "source": [
    "<hr>\n",
    "\n",
    "[<img src = \"https://dolphin-public.oss-cn-shanghai.aliyuncs.com/img/copyright.png\">](http://www.dolphin-labs.com)"
   ]
  }
 ],
 "metadata": {
  "kernelspec": {
   "display_name": "Python 3",
   "language": "python",
   "name": "python3"
  },
  "language_info": {
   "codemirror_mode": {
    "name": "ipython",
    "version": 3
   },
   "file_extension": ".py",
   "mimetype": "text/x-python",
   "name": "python",
   "nbconvert_exporter": "python",
   "pygments_lexer": "ipython3",
   "version": "3.6.7"
  },
  "nbTranslate": {
   "displayLangs": [
    "*"
   ],
   "hotkey": "alt-t",
   "langInMainMenu": true,
   "sourceLang": "en",
   "targetLang": "fr",
   "useGoogleTranslate": true
  },
  "toc": {
   "base_numbering": 1,
   "nav_menu": {},
   "number_sections": false,
   "sideBar": true,
   "skip_h1_title": false,
   "title_cell": "Table of Contents",
   "title_sidebar": "Contents",
   "toc_cell": false,
   "toc_position": {
    "height": "calc(100% - 180px)",
    "left": "10px",
    "top": "150px",
    "width": "352.367px"
   },
   "toc_section_display": true,
   "toc_window_display": true
  }
 },
 "nbformat": 4,
 "nbformat_minor": 2
}
